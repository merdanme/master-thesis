{
  "nbformat": 4,
  "nbformat_minor": 0,
  "metadata": {
    "colab": {
      "name": "02 Modeling (submission)",
      "provenance": [],
      "collapsed_sections": [
        "kb3F5aT49VP5",
        "vUQdfQSZ9ZaY",
        "JXIOS2qg4JWK",
        "oKsCl0mK7efr",
        "g7xRhIHKbrBu",
        "A71BOGzMV746",
        "6UJ3ma1JE6O6",
        "J5MGdnOvdi-Q"
      ],
      "machine_shape": "hm"
    },
    "kernelspec": {
      "display_name": "Python 3",
      "name": "python3"
    },
    "accelerator": "GPU"
  },
  "cells": [
    {
      "cell_type": "markdown",
      "metadata": {
        "id": "D26JG22Coibr"
      },
      "source": [
        "## Libraries"
      ]
    },
    {
      "cell_type": "code",
      "metadata": {
        "id": "vFcf6HnXc9hD"
      },
      "source": [
        "# General Packages\n",
        "import pandas as pd\n",
        "import numpy as np\n",
        "import os, json, zipfile\n",
        "from pathlib import Path\n",
        "\n",
        "import matplotlib.pyplot as plt\n",
        "import plotly.graph_objects as go\n",
        "\n",
        "from google.colab import drive"
      ],
      "execution_count": 1,
      "outputs": []
    },
    {
      "cell_type": "code",
      "metadata": {
        "colab": {
          "base_uri": "https://localhost:8080/"
        },
        "id": "6KqhfdS-67Yg",
        "outputId": "3256f0fc-a66d-4f19-bf5c-ecb481009251"
      },
      "source": [
        "# Mount Drive on Colab\n",
        "drive.mount('/content/drive')"
      ],
      "execution_count": 2,
      "outputs": [
        {
          "output_type": "stream",
          "text": [
            "Mounted at /content/drive\n"
          ],
          "name": "stdout"
        }
      ]
    },
    {
      "cell_type": "code",
      "metadata": {
        "id": "Gs4D7fP86_Sj"
      },
      "source": [
        "from pydrive.auth import GoogleAuth\n",
        "from pydrive.drive import GoogleDrive\n",
        "from google.colab import auth\n",
        "from oauth2client.client import GoogleCredentials\n",
        "\n",
        "auth.authenticate_user()\n",
        "gauth = GoogleAuth()\n",
        "gauth.credentials = GoogleCredentials.get_application_default()\n",
        "drive = GoogleDrive(gauth)"
      ],
      "execution_count": 3,
      "outputs": []
    },
    {
      "cell_type": "code",
      "metadata": {
        "id": "kzAE_CCB5XOT"
      },
      "source": [
        "# Install TF Official Models for BERT\n",
        "!pip install -q tf-models-official"
      ],
      "execution_count": null,
      "outputs": []
    },
    {
      "cell_type": "code",
      "metadata": {
        "id": "qFTVFO2D5avD"
      },
      "source": [
        "# For BERT Models\n",
        "import tensorflow as tf\n",
        "\n",
        "import tensorflow_hub as hub\n",
        "import tensorflow_datasets as tfds\n",
        "tfds.disable_progress_bar()\n",
        "\n",
        "from official.modeling import tf_utils\n",
        "from official import nlp\n",
        "from official.nlp import bert\n",
        "import official.nlp.optimization\n",
        "import official.nlp.bert.bert_models\n",
        "import official.nlp.bert.configs\n",
        "import official.nlp.bert.run_classifier\n",
        "import official.nlp.bert.tokenization\n",
        "import official.nlp.data.classifier_data_lib\n",
        "import official.nlp.modeling.losses\n",
        "import official.nlp.modeling.models\n",
        "import official.nlp.modeling.networks\n",
        "\n",
        "from keras import metrics\n",
        "from keras import backend as K\n",
        "from tensorflow.keras.callbacks import EarlyStopping"
      ],
      "execution_count": 5,
      "outputs": []
    },
    {
      "cell_type": "code",
      "metadata": {
        "id": "s8Bx9C2X5nL6"
      },
      "source": [
        "# Benchmarks\n",
        "import sklearn\n",
        "from sklearn import model_selection, naive_bayes, svm\n",
        "from sklearn.feature_extraction.text import TfidfVectorizer\n",
        "from sklearn.preprocessing import LabelEncoder\n",
        "from sklearn.model_selection import train_test_split\n",
        "from sklearn.metrics import accuracy_score, f1_score, precision_score"
      ],
      "execution_count": 6,
      "outputs": []
    },
    {
      "cell_type": "code",
      "metadata": {
        "id": "ZHj-Q9l4AtT9"
      },
      "source": [
        "# Data Cleaning \n",
        "import nltk\n",
        "nltk.download('stopwords')\n",
        "nltk.download('punkt')\n",
        "nltk.download('averaged_perceptron_tagger')\n",
        "nltk.download('wordnet')\n",
        "from nltk.tokenize import word_tokenize\n",
        "from nltk.corpus import stopwords\n",
        "from nltk.corpus import wordnet as wn\n",
        "from nltk.stem import WordNetLemmatizer\n",
        "from nltk.stem import *\n",
        "import re, string"
      ],
      "execution_count": null,
      "outputs": []
    },
    {
      "cell_type": "code",
      "metadata": {
        "id": "xOISD4EuuBPA"
      },
      "source": [
        "# To see all the columns in a dataframe \n",
        "pd.set_option('display.max_columns', None)"
      ],
      "execution_count": 7,
      "outputs": []
    },
    {
      "cell_type": "markdown",
      "metadata": {
        "id": "hZdIoYfi_d7C"
      },
      "source": [
        "### Read the Dataset"
      ]
    },
    {
      "cell_type": "markdown",
      "metadata": {
        "id": "09LnnL04_nko"
      },
      "source": [
        "The paths to the pre-trained model directories saved on our Google Drive account are specified below. You can find the links to download the pre-trained BERT models in \"BERT Models - Fine Tuning on Tensorflow\" section below, store in your preference of storage (on PC, Google Drive, etc.) and can read the files accordingly. We did not directly store and open them on Google Colab because of the limited disk space."
      ]
    },
    {
      "cell_type": "code",
      "metadata": {
        "id": "ay6QvSpQ7FRB"
      },
      "source": [
        "# Base Drive directory \n",
        "base_dir = '/content/drive/My Drive'\n",
        "\n",
        "\n",
        "# Subdirectories of pre-trained BERT models\n",
        "model_dir = os.path.join(base_dir, 'Models')\n",
        "\n",
        "bert_tf_dir = os.path.join(model_dir, '01 TF BERT/BERT Base') # Pre-trained uncased BERT-Base model\n",
        "bert_large_dir = os.path.join(model_dir, '01 TF BERT/BERT Large') # Pre-trained uncased BERT-Large model\n",
        "\n",
        "bert_patents_model = os.path.join(model_dir, '02 BERT Google Patents/Model') # BERT-Large model pre-trained on the patent corpus"
      ],
      "execution_count": 4,
      "outputs": []
    },
    {
      "cell_type": "markdown",
      "metadata": {
        "id": "Pgt1H7LKez4a"
      },
      "source": [
        "The \"data.csv\" obtained after the data collection is stored in \"data.zip\" file. To start the analysis, one can directly read the final labeled dataset from the zip file on the [GitHub repository](https://github.com/Humboldt-WI/dissertations/tree/main/Firm_performance_patent_NLP)."
      ]
    },
    {
      "cell_type": "code",
      "metadata": {
        "id": "tss0h7Mnt1d5"
      },
      "source": [
        "# Get the GitHub links of zip data files to upload them on Colab\n",
        "!wget https://github.com/Humboldt-WI/dissertations/blob/main/Firm_performance_patent_NLP/data.zip"
      ],
      "execution_count": null,
      "outputs": []
    },
    {
      "cell_type": "code",
      "metadata": {
        "id": "Tk6M5bIq-HKR"
      },
      "source": [
        "# Base Colab directory\n",
        "base_colab = '/content'\n",
        "\n",
        "# Subdirectories of the dataset parts\n",
        "zip_data = os.path.join(base_colab, 'data.zip')"
      ],
      "execution_count": 11,
      "outputs": []
    },
    {
      "cell_type": "code",
      "metadata": {
        "id": "XpBFeAj29oFb"
      },
      "source": [
        "# Open the zip files\n",
        "with zipfile.ZipFile(zip_data, 'r') as zip_ref:\n",
        "    zip_ref.extractall(base_colab)  "
      ],
      "execution_count": 12,
      "outputs": []
    },
    {
      "cell_type": "code",
      "metadata": {
        "id": "qTF5Gzlj84kW"
      },
      "source": [
        "# Read the csv files\n",
        "df = pd.read_csv('/content/data.csv')"
      ],
      "execution_count": 13,
      "outputs": []
    },
    {
      "cell_type": "markdown",
      "metadata": {
        "id": "AR1SxNCeodzK"
      },
      "source": [
        "## Data Preparation"
      ]
    },
    {
      "cell_type": "markdown",
      "metadata": {
        "id": "kb3F5aT49VP5"
      },
      "source": [
        "### Data Cleaning"
      ]
    },
    {
      "cell_type": "code",
      "metadata": {
        "id": "zhDbt2JpxAVp"
      },
      "source": [
        "df['title'] = df['title'].astype(str).str.strip()\n",
        "df['abstract'] = df['abstract'].astype(str).str.strip()"
      ],
      "execution_count": null,
      "outputs": []
    },
    {
      "cell_type": "code",
      "metadata": {
        "id": "RAsLqYTwskFB"
      },
      "source": [
        "df['title_abstract'] = df[['title', 'abstract']].apply(lambda x: ''.join(x), axis=1)\n",
        "df['abstract_title'] = df[['abstract', 'title']].apply(lambda x: ''.join(x), axis=1)"
      ],
      "execution_count": null,
      "outputs": []
    },
    {
      "cell_type": "code",
      "metadata": {
        "id": "AEZ3lej0pAit"
      },
      "source": [
        "df['abstract_title'] = df['abstract_title'].astype(str).str.strip()\n",
        "df['title_abstract'] = df['title_abstract'].astype(str).str.strip()"
      ],
      "execution_count": null,
      "outputs": []
    },
    {
      "cell_type": "code",
      "metadata": {
        "id": "GMkGTJ7EpRSY"
      },
      "source": [
        "# Clean Sentences\n",
        "def clean_sentences(text):\n",
        "    \n",
        "    ## Remove punctuation\n",
        "    text = text.translate(string.punctuation) \n",
        "\n",
        "    ## Clean the text ##took from kaggle and edited acc to common subjects https://www.kaggle.com/currie32/the-importance-of-cleaning-text and adjusted to our case\n",
        "    text = re.sub(r\"[^A-Za-z0-9]\", \" \", text)\n",
        "    text = re.sub(r\"\\ s \", \" \", text)\n",
        "    text = re.sub(r\"\\ ve\", \" have \", text)\n",
        "    text = re.sub(r\"can t \", \"cannot \", text)\n",
        "    text = re.sub(r\"n t \", \" not \", text)\n",
        "    text = re.sub(r\"i m \", \"i am\", text)\n",
        "    text = re.sub(r\"\\ re\", \" are \", text)\n",
        "    text = re.sub(r\"\\ ll\", \" will \", text)\n",
        "    text = re.sub(r\" e g \", \" eg \", text)\n",
        "    text = re.sub(r\" b g \", \" bg \", text)\n",
        "    text = re.sub(r\"\\0s\", \"0\", text)\n",
        "    text = re.sub(r\" e mail\", \"email\", text)\n",
        "    text = re.sub(r\"\\s{2,}\", \" \", text)\n",
        "    text = re.sub(r\"\\0rs \", \" rs \", text) \n",
        "    text = re.sub(r\"programing\", \"programming\", text)\n",
        "    text = re.sub(r\" ai \", \"artificial intelligence\", text)\n",
        "    text = re.sub(r\" nn \", \"neural networks\", text)\n",
        "    text = re.sub(r\" rnn \", \"recurrent neural networks\", text)\n",
        "    text = re.sub(r\" ml \", \"machine learning\", text)\n",
        "    text = re.sub(r\" vr \", \"virtual reality\", text)\n",
        "    text = re.sub(r\" tech \", \"technology\", text)\n",
        "    text = re.sub(r\"chatbot\", \"chat bot\", text)\n",
        "    text = re.sub(r\"chatbots\", \"chat bots\", text)\n",
        "    text = re.sub(r\"internet of things\", \"iot\", text)\n",
        "    text = re.sub(r\" dl \", \"deep learning\", text)\n",
        "    text = re.sub(r\" ux \", \"user experience\", text)\n",
        "    text = re.sub(r\" nlp \", \"natural language processing\", text)    \n",
        "    text = re.sub(r\" also \", \"\", text)    \n",
        "    text = re.sub(r\" well \", \"\", text)    \n",
        "    text = re.sub(r\" are \", \"\", text)    \n",
        "    text = re.sub(r\" the \", \"\", text)    \n",
        "    text = re.sub(r\" et \", \"\", text)    \n",
        "    text = re.sub(r\" al \", \"\", text)    \n",
        "    text = re.sub(r\" eg \", \"\", text)    \n",
        "    text = re.sub(r\" nan \", \"\", text)\n",
        "    text = re.sub(r\" i \", \"\", text)  \n",
        "    text = re.sub(r\" a \", \"\", text)\n",
        "\n",
        "    ## Convert words to lower case and split them\n",
        "    text = text.lower().split()\n",
        "    \n",
        "    ## Remove stop \n",
        "    text = [w for w in text if not w in stops and len(w) >= 2]\n",
        "    text = \" \".join(text)\n",
        "    \n",
        "    ## Stemming\n",
        "    text = text.split()\n",
        "    stemmer = SnowballStemmer('english')\n",
        "    stemmed_words = [stemmer.stem(word) for word in text]\n",
        "    text = \" \".join(stemmed_words)\n",
        "    return text"
      ],
      "execution_count": null,
      "outputs": []
    },
    {
      "cell_type": "code",
      "metadata": {
        "id": "7124QEYupEQD"
      },
      "source": [
        "stops = stopwords.words('english')"
      ],
      "execution_count": null,
      "outputs": []
    },
    {
      "cell_type": "code",
      "metadata": {
        "id": "PglAA6DFpTj5"
      },
      "source": [
        "df['abstract']= df['abstract'].map(lambda x: clean_sentences(x))\n",
        "df['title']= df['title'].map(lambda x: clean_sentences(x))\n",
        "df['abstract_title']= df['abstract_title'].map(lambda x: clean_sentences(x))\n",
        "df['title_abstract']= df['title_abstract'].map(lambda x: clean_sentences(x))"
      ],
      "execution_count": null,
      "outputs": []
    },
    {
      "cell_type": "markdown",
      "metadata": {
        "id": "vUQdfQSZ9ZaY"
      },
      "source": [
        "### Label Preparation"
      ]
    },
    {
      "cell_type": "code",
      "metadata": {
        "id": "-55A6r87Bo41"
      },
      "source": [
        "# Select only granted companies - only for Granted Patents Discussion 6.1\n",
        "# df = df[df['grant_date'] != \"0\"]"
      ],
      "execution_count": null,
      "outputs": []
    },
    {
      "cell_type": "code",
      "metadata": {
        "id": "BBUtgIlub1mC"
      },
      "source": [
        "# Select companies with at least 50 green patents\n",
        "col = 'company'  \n",
        "n = 50\n",
        "\n",
        "df = df[df.groupby(col)[col].transform('count').ge(n)]"
      ],
      "execution_count": null,
      "outputs": []
    },
    {
      "cell_type": "code",
      "metadata": {
        "id": "KW1ipOQfovbh"
      },
      "source": [
        "# Drop observations without total assets change for 9 years\n",
        "df.dropna(subset = ['total_assets_label_9'], inplace=True)\n",
        "df.reset_index(drop=True)"
      ],
      "execution_count": null,
      "outputs": []
    },
    {
      "cell_type": "code",
      "metadata": {
        "id": "fdlJ9S6KpeoE"
      },
      "source": [
        "# Drop observations in which total assets did not change in 9 years\n",
        "df = df[df['total_assets_label_9'] != 0]"
      ],
      "execution_count": null,
      "outputs": []
    },
    {
      "cell_type": "code",
      "metadata": {
        "id": "m1aBbdt-qGKy"
      },
      "source": [
        "# Replace negative observation label -1 with 0 for practical binary labels of 0-1\n",
        "df['total_assets_label_9'] = df['total_assets_label_9'].replace(-1, 0)"
      ],
      "execution_count": null,
      "outputs": []
    },
    {
      "cell_type": "code",
      "metadata": {
        "id": "6Mylasnb3f8t"
      },
      "source": [
        "# Get a random sample of the dataset equal to 9-year time lag, if time lag is 3 or 5\n",
        "df = df.sample(n=4672, random_state=12) # n=4672 for assets, 4669 for revenues"
      ],
      "execution_count": null,
      "outputs": []
    },
    {
      "cell_type": "code",
      "metadata": {
        "id": "ngkPdpRN_-OX"
      },
      "source": [
        "# Split the data into train and test sets\n",
        "train, test = train_test_split(df, test_size=0.25, random_state=12)"
      ],
      "execution_count": null,
      "outputs": []
    },
    {
      "cell_type": "markdown",
      "metadata": {
        "id": "IRfc_GXTiYvR"
      },
      "source": [
        "## BERT Models - Fine Tuning on Tensorflow"
      ]
    },
    {
      "cell_type": "markdown",
      "metadata": {
        "id": "JXIOS2qg4JWK"
      },
      "source": [
        "### Standard BERT Models"
      ]
    },
    {
      "cell_type": "markdown",
      "metadata": {
        "id": "Wwae-yei5ooq"
      },
      "source": [
        "The pre-trained BERT Models proposed by [Devlin et al. (2018)](https://arxiv.org/pdf/1810.04805.pdf) can be downloaded [here](https://github.com/google-research/bert)."
      ]
    },
    {
      "cell_type": "code",
      "metadata": {
        "id": "v9IaBOwhAIQt"
      },
      "source": [
        "# Gather the patent text and the label for train and test sets\n",
        "train_df = train[['abstract_title','total_assets_label_9']]\n",
        "test_df = test[['abstract_title','total_assets_label_9']]"
      ],
      "execution_count": null,
      "outputs": []
    },
    {
      "cell_type": "code",
      "metadata": {
        "colab": {
          "base_uri": "https://localhost:8080/"
        },
        "id": "hLRehizu4LLQ",
        "outputId": "81967755-7782-42fc-c552-27e01d72dcf7"
      },
      "source": [
        "# List the files in BERT model folder\n",
        "tf.io.gfile.listdir(bert_tf_dir) # Choose \"bert_large_dir\" folder for BERT-Large"
      ],
      "execution_count": 9,
      "outputs": [
        {
          "output_type": "execute_result",
          "data": {
            "text/plain": [
              "['bert_config.json',\n",
              " 'bert_model.ckpt.data-00000-of-00001',\n",
              " 'bert_model.ckpt.index',\n",
              " 'vocab.txt']"
            ]
          },
          "metadata": {
            "tags": []
          },
          "execution_count": 9
        }
      ]
    },
    {
      "cell_type": "code",
      "metadata": {
        "colab": {
          "base_uri": "https://localhost:8080/"
        },
        "id": "y79QE84F4LI-",
        "outputId": "d6917010-8b65-4b7e-b87a-21b0fce5e356"
      },
      "source": [
        "# Set up tokenizer to generate Tensorflow dataset\n",
        "tokenizer = bert.tokenization.FullTokenizer(\n",
        "    vocab_file=os.path.join(bert_tf_dir, \"vocab.txt\"), # Choose \"bert_large_dir\" folder for BERT-Large\n",
        "     do_lower_case=True)\n",
        "\n",
        "print(\"Vocab size:\", len(tokenizer.vocab))"
      ],
      "execution_count": 10,
      "outputs": [
        {
          "output_type": "stream",
          "text": [
            "Vocab size: 30522\n"
          ],
          "name": "stdout"
        }
      ]
    },
    {
      "cell_type": "code",
      "metadata": {
        "id": "Z-etAP8WSSDL"
      },
      "source": [
        "def bert_encode(texts, tokenizer, max_len=512): # max_len=256 for BERT-Large\n",
        "    all_tokens = []\n",
        "    all_masks = []\n",
        "    all_segments = []\n",
        "    \n",
        "    for text in texts['abstract_title']:\n",
        "        text = tokenizer.tokenize(text)\n",
        "            \n",
        "        text = text[:max_len-2]\n",
        "        input_sequence = [\"[CLS]\"] + text + [\"[SEP]\"]\n",
        "        pad_len = max_len - len(input_sequence)\n",
        "        \n",
        "        tokens = tokenizer.convert_tokens_to_ids(input_sequence) + [0] * pad_len\n",
        "        pad_masks = [1] * len(input_sequence) + [0] * pad_len\n",
        "        segment_ids = [0] * max_len\n",
        "        \n",
        "        all_tokens.append(tokens)\n",
        "        all_masks.append(pad_masks)\n",
        "        all_segments.append(segment_ids)\n",
        "\n",
        "    return tf.constant(np.array(all_tokens)), tf.constant(np.array(all_masks)), tf.constant(np.array(all_segments))"
      ],
      "execution_count": null,
      "outputs": []
    },
    {
      "cell_type": "code",
      "metadata": {
        "id": "d9errnnTSSDV"
      },
      "source": [
        "train_tokens = bert_encode(train_df, tokenizer)\n",
        "train_labels = train_df['total_assets_label_9']\n",
        "\n",
        "test_tokens = bert_encode(test_df, tokenizer)\n",
        "test_labels = test_df['total_assets_label_9']"
      ],
      "execution_count": null,
      "outputs": []
    },
    {
      "cell_type": "code",
      "metadata": {
        "id": "agR8zmT5SSDV"
      },
      "source": [
        "train_tokens = {'input_word_ids': train_tokens[0],\n",
        "                'input_mask': train_tokens[1],\n",
        "                'input_type_ids': train_tokens[2]}\n",
        "\n",
        "test_tokens = {'input_word_ids': test_tokens[0],\n",
        "               'input_mask': test_tokens[1],\n",
        "               'input_type_ids': test_tokens[2]}            "
      ],
      "execution_count": null,
      "outputs": []
    },
    {
      "cell_type": "code",
      "metadata": {
        "id": "IMn9FkHbSSDW"
      },
      "source": [
        "train_labels = tf.constant(train_labels)\n",
        "test_labels = tf.constant(test_labels)"
      ],
      "execution_count": null,
      "outputs": []
    },
    {
      "cell_type": "code",
      "metadata": {
        "colab": {
          "base_uri": "https://localhost:8080/"
        },
        "id": "T4gEjWZjVhTr",
        "outputId": "5b7da82a-dfd8-496d-f4e8-4d1fe8b561f4"
      },
      "source": [
        "# Model Configurations \n",
        "bert_config_file = os.path.join(bert_tf_dir, \"bert_config.json\") # Choose \"bert_large_dir\" folder for BERT-Large\n",
        "config_dict = json.loads(tf.io.gfile.GFile(bert_config_file).read())\n",
        "bert_config = bert.configs.BertConfig.from_dict(config_dict)\n",
        "\n",
        "config_dict"
      ],
      "execution_count": 11,
      "outputs": [
        {
          "output_type": "execute_result",
          "data": {
            "text/plain": [
              "{'attention_probs_dropout_prob': 0.1,\n",
              " 'hidden_act': 'gelu',\n",
              " 'hidden_dropout_prob': 0.1,\n",
              " 'hidden_size': 768,\n",
              " 'initializer_range': 0.02,\n",
              " 'intermediate_size': 3072,\n",
              " 'max_position_embeddings': 512,\n",
              " 'num_attention_heads': 12,\n",
              " 'num_hidden_layers': 12,\n",
              " 'type_vocab_size': 2,\n",
              " 'vocab_size': 30522}"
            ]
          },
          "metadata": {
            "tags": []
          },
          "execution_count": 11
        }
      ]
    },
    {
      "cell_type": "code",
      "metadata": {
        "id": "GJol6yseS-rd"
      },
      "source": [
        "# BERT Classifier\n",
        "bert_classifier, bert_encoder = bert.bert_models.classifier_model(\n",
        "    bert_config, num_labels=2)"
      ],
      "execution_count": null,
      "outputs": []
    },
    {
      "cell_type": "code",
      "metadata": {
        "colab": {
          "base_uri": "https://localhost:8080/",
          "height": 355
        },
        "id": "KIWc7JSNS-rd",
        "outputId": "2388faa2-3546-4e46-a593-68350b007057"
      },
      "source": [
        "# Plot the shape of BERT Classifier\n",
        "tf.keras.utils.plot_model(bert_classifier, show_shapes=True, dpi=80)"
      ],
      "execution_count": null,
      "outputs": [
        {
          "output_type": "execute_result",
          "data": {
            "image/png": "[encoded data removed]",
            "text/plain": [
              "<IPython.core.display.Image object>"
            ]
          },
          "metadata": {
            "tags": []
          },
          "execution_count": 33
        }
      ]
    },
    {
      "cell_type": "code",
      "metadata": {
        "id": "gJIbMgb7XvMT"
      },
      "source": [
        "# Restore checkpoints \n",
        "checkpoint = tf.train.Checkpoint(model=bert_encoder)\n",
        "checkpoint.restore(os.path.join(bert_tf_dir, 'bert_model.ckpt')) # Choose \"bert_large_dir\" folder for BERT-Large"
      ],
      "execution_count": null,
      "outputs": []
    },
    {
      "cell_type": "code",
      "metadata": {
        "id": "Bze6lo9PTTNf"
      },
      "source": [
        "# Set up epochs and steps\n",
        "epochs = 4\n",
        "batch_size = 8\n",
        "eval_batch_size = 8\n",
        "\n",
        "train_data_size = len(train_labels)\n",
        "steps_per_epoch = int(train_data_size / batch_size)\n",
        "num_train_steps = steps_per_epoch * epochs\n",
        "warmup_steps = int(epochs * train_data_size * 0.1 / batch_size)\n",
        "\n",
        "# Create an optimizer with learning rate schedule\n",
        "optimizer = nlp.optimization.create_optimizer(\n",
        "    2e-5, num_train_steps=num_train_steps, num_warmup_steps=warmup_steps)"
      ],
      "execution_count": null,
      "outputs": []
    },
    {
      "cell_type": "code",
      "metadata": {
        "id": "YNbYX1A-TTNs"
      },
      "source": [
        "# Print the type of the optimizer\n",
        "type(optimizer)"
      ],
      "execution_count": null,
      "outputs": []
    },
    {
      "cell_type": "code",
      "metadata": {
        "id": "tDaxoiFCTIaN"
      },
      "source": [
        "# Custom metrics for the model\n",
        "def recall_m(y_true, y_pred):\n",
        "    true_positives = K.sum(K.round(K.clip(y_true * y_pred, 0, 1)))\n",
        "    possible_positives = K.sum(K.round(K.clip(y_true, 0, 1)))\n",
        "    recall = true_positives / (possible_positives + K.epsilon())\n",
        "    return recall\n",
        "\n",
        "def precision_m(y_true, y_pred):\n",
        "    true_positives = K.sum(K.round(K.clip(y_true * y_pred, 0, 1)))\n",
        "    predicted_positives = K.sum(K.round(K.clip(y_pred, 0, 1)))\n",
        "    precision = true_positives / (predicted_positives + K.epsilon())\n",
        "    return precision\n",
        "\n",
        "def f1_score(y_true, y_pred):\n",
        "    precision = precision_m(y_true, y_pred)\n",
        "    recall = recall_m(y_true, y_pred)\n",
        "    return 2*((precision*recall)/(precision+recall+K.epsilon()))"
      ],
      "execution_count": null,
      "outputs": []
    },
    {
      "cell_type": "code",
      "metadata": {
        "id": "iZFBg3wILTzd"
      },
      "source": [
        "# Compile and fit the model\n",
        "metrics = [tf.keras.metrics.SparseCategoricalAccuracy('accuracy', dtype=tf.float32), f1_score, precision_m, recall_m] \n",
        "loss = tf.keras.losses.SparseCategoricalCrossentropy(from_logits=True)\n",
        "earlyStopping = [EarlyStopping(monitor = \"val_loss\", mode = \"min\", patience = 1)]\n",
        "\n",
        "\n",
        "bert_classifier.compile(\n",
        "    optimizer=optimizer,\n",
        "    loss=loss,\n",
        "    metrics=metrics)\n",
        "\n",
        "history = bert_classifier.fit(\n",
        "      train_tokens, train_labels,\n",
        "      validation_data=(test_tokens, test_labels),\n",
        "      batch_size=batch_size,\n",
        "      epochs=epochs,\n",
        "      callbacks = earlyStopping)"
      ],
      "execution_count": null,
      "outputs": []
    },
    {
      "cell_type": "code",
      "metadata": {
        "id": "TKyZtb9vh-As"
      },
      "source": [
        "# Model history\n",
        "history.history"
      ],
      "execution_count": null,
      "outputs": []
    },
    {
      "cell_type": "code",
      "metadata": {
        "id": "zp0yA4bQTTNu"
      },
      "source": [
        "# Train results\n",
        "results_train = bert_classifier.evaluate(train_tokens, train_labels,\n",
        "      batch_size=batch_size)\n",
        "print(\"train loss, train acc, train_f1, train_precision, train_recall:\", results_train)"
      ],
      "execution_count": null,
      "outputs": []
    },
    {
      "cell_type": "code",
      "metadata": {
        "id": "W5nmv_sXOXZJ"
      },
      "source": [
        "# Test results\n",
        "results = bert_classifier.evaluate(test_tokens, test_labels,\n",
        "      batch_size=batch_size)\n",
        "print(\"test loss, test acc, test_f1, test_precision, test_recall:\", results)"
      ],
      "execution_count": null,
      "outputs": []
    },
    {
      "cell_type": "code",
      "metadata": {
        "id": "xuwZbndtuMz_"
      },
      "source": [
        "# Generate predictions \n",
        "print(\"Generate predictions\")\n",
        "predictions = bert_classifier.predict(test_tokens)\n",
        "print(\"Predictions Shape:\", predictions.shape)"
      ],
      "execution_count": null,
      "outputs": []
    },
    {
      "cell_type": "markdown",
      "metadata": {
        "id": "oKsCl0mK7efr"
      },
      "source": [
        "### BERT Models for Patents"
      ]
    },
    {
      "cell_type": "markdown",
      "metadata": {
        "id": "P7CNVjpj6avk"
      },
      "source": [
        "The BERT models pre-trained on the patent corpus by [Srebrovic and Yonamine (2020)](https://services.google.com/fh/files/blogs/bert_for_patents_white_paper.pdf) can be downloaded [here](https://github.com/google/patents-public-data/blob/master/models/BERT%20for%20Patents.md)."
      ]
    },
    {
      "cell_type": "code",
      "metadata": {
        "id": "iNbPHdt6ARmG"
      },
      "source": [
        "# Gather the patent text and the label for train and test sets\n",
        "train_df = train[['abstract_title','total_assets_label_9']]\n",
        "test_df = test[['abstract_title','total_assets_label_9']]"
      ],
      "execution_count": null,
      "outputs": []
    },
    {
      "cell_type": "code",
      "metadata": {
        "colab": {
          "base_uri": "https://localhost:8080/"
        },
        "id": "W57xopkR7ef5",
        "outputId": "6a64e6e2-406d-4d66-fbbd-45df3ab5f58d"
      },
      "source": [
        "# List the files in BERT model folder\n",
        "tf.io.gfile.listdir(bert_patents_model) "
      ],
      "execution_count": 12,
      "outputs": [
        {
          "output_type": "execute_result",
          "data": {
            "text/plain": [
              "['vocab.txt',\n",
              " 'saved_model.pb',\n",
              " 'variables.data-00000-of-00001',\n",
              " 'variables.index',\n",
              " 'bert_for_patents_large_config.json']"
            ]
          },
          "metadata": {
            "tags": []
          },
          "execution_count": 12
        }
      ]
    },
    {
      "cell_type": "code",
      "metadata": {
        "colab": {
          "base_uri": "https://localhost:8080/"
        },
        "id": "YvdYqQxA7ef6",
        "outputId": "622ee05b-435a-43dd-f937-664057877b6a"
      },
      "source": [
        "# Set up tokenizer to generate Tensorflow dataset\n",
        "tokenizer = bert.tokenization.FullTokenizer(\n",
        "    vocab_file=os.path.join(bert_patents_model, \"vocab.txt\"), \n",
        "     do_lower_case=True)\n",
        "\n",
        "print(\"Vocab size:\", len(tokenizer.vocab))"
      ],
      "execution_count": 13,
      "outputs": [
        {
          "output_type": "stream",
          "text": [
            "Vocab size: 39859\n"
          ],
          "name": "stdout"
        }
      ]
    },
    {
      "cell_type": "code",
      "metadata": {
        "id": "Pj81ZLjL7ef6"
      },
      "source": [
        "def bert_encode(texts, tokenizer, max_len=512): # max_len=256 for the large model\n",
        "    all_tokens = []\n",
        "    all_masks = []\n",
        "    all_segments = []\n",
        "    \n",
        "    for text in texts['abstract_title']:\n",
        "        text = tokenizer.tokenize(text)\n",
        "            \n",
        "        text = text[:max_len-2]\n",
        "        input_sequence = [\"[CLS]\"] + text + [\"[SEP]\"]\n",
        "        pad_len = max_len - len(input_sequence)\n",
        "        \n",
        "        tokens = tokenizer.convert_tokens_to_ids(input_sequence) + [0] * pad_len\n",
        "        pad_masks = [1] * len(input_sequence) + [0] * pad_len\n",
        "        segment_ids = [0] * max_len\n",
        "        \n",
        "        all_tokens.append(tokens)\n",
        "        all_masks.append(pad_masks)\n",
        "        all_segments.append(segment_ids)\n",
        "\n",
        "    return tf.constant(np.array(all_tokens)), tf.constant(np.array(all_masks)), tf.constant(np.array(all_segments))"
      ],
      "execution_count": null,
      "outputs": []
    },
    {
      "cell_type": "code",
      "metadata": {
        "id": "T_TWe1_q7ef6"
      },
      "source": [
        "train_tokens = bert_encode(train_df, tokenizer)\n",
        "train_labels = train_df['total_assets_label_9']\n",
        "\n",
        "test_tokens = bert_encode(test_df, tokenizer)\n",
        "test_labels = test_df['total_assets_label_9']"
      ],
      "execution_count": null,
      "outputs": []
    },
    {
      "cell_type": "code",
      "metadata": {
        "id": "YFe4HhpZ7ef7"
      },
      "source": [
        "train_tokens = {'input_word_ids': train_tokens[0],\n",
        "                'input_mask': train_tokens[1],\n",
        "                'input_type_ids': train_tokens[2]}\n",
        "\n",
        "test_tokens = {'input_word_ids': test_tokens[0],\n",
        "               'input_mask': test_tokens[1],\n",
        "               'input_type_ids': test_tokens[2]}            "
      ],
      "execution_count": null,
      "outputs": []
    },
    {
      "cell_type": "code",
      "metadata": {
        "id": "JLvGx9-M7ef7"
      },
      "source": [
        "train_labels = tf.constant(train_labels)\n",
        "test_labels = tf.constant(test_labels)"
      ],
      "execution_count": null,
      "outputs": []
    },
    {
      "cell_type": "code",
      "metadata": {
        "colab": {
          "base_uri": "https://localhost:8080/"
        },
        "id": "DHcQRtVO7ef7",
        "outputId": "fe377c3d-2a42-4f76-ba7b-917a515e7904"
      },
      "source": [
        "# Model Configurations of the Large Model\n",
        "bert_config_file = os.path.join(bert_patents_model, \"bert_for_patents_large_config.json\") \n",
        "config_dict = json.loads(tf.io.gfile.GFile(bert_config_file).read())\n",
        "bert_config = bert.configs.BertConfig.from_dict(config_dict)\n",
        "\n",
        "config_dict"
      ],
      "execution_count": null,
      "outputs": [
        {
          "output_type": "execute_result",
          "data": {
            "text/plain": [
              "{'attention_probs_dropout_prob': 0.1,\n",
              " 'hidden_act': 'gelu',\n",
              " 'hidden_dropout_prob': 0.1,\n",
              " 'hidden_size': 1024,\n",
              " 'initializer_range': 0.02,\n",
              " 'intermediate_size': 4096,\n",
              " 'max_position_embeddings': 512,\n",
              " 'num_attention_heads': 16,\n",
              " 'num_hidden_layers': 24,\n",
              " 'type_vocab_size': 2,\n",
              " 'vocab_size': 30522}"
            ]
          },
          "metadata": {
            "tags": []
          },
          "execution_count": 22
        }
      ]
    },
    {
      "cell_type": "code",
      "metadata": {
        "id": "DHihVNth7ef7"
      },
      "source": [
        "# Model Configurations of the Base Model - manually written since it the bert_for_patents_large_config.json file has configurations for large model\n",
        "config_dict = {'attention_probs_dropout_prob': 0.1,\n",
        " 'hidden_act': 'gelu',\n",
        " 'hidden_dropout_prob': 0.1,\n",
        " 'hidden_size': 768,\n",
        " 'initializer_range': 0.02,\n",
        " 'intermediate_size': 3072,\n",
        " 'max_position_embeddings': 512,\n",
        " 'num_attention_heads': 12,\n",
        " 'num_hidden_layers': 12,\n",
        " 'type_vocab_size': 2,\n",
        " 'vocab_size': 39859}\n",
        "\n",
        "bert_config = bert.configs.BertConfig.from_dict(config_dict)"
      ],
      "execution_count": null,
      "outputs": []
    },
    {
      "cell_type": "code",
      "metadata": {
        "id": "iuT5S8DH7ef8"
      },
      "source": [
        "# BERT Classifier\n",
        "bert_classifier, bert_encoder = bert.bert_models.classifier_model(\n",
        "    bert_config, num_labels=2)"
      ],
      "execution_count": null,
      "outputs": []
    },
    {
      "cell_type": "code",
      "metadata": {
        "id": "-bXRlcY57ef8"
      },
      "source": [
        "# Plot the shape of BERT Classifier\n",
        "tf.keras.utils.plot_model(bert_classifier, show_shapes=True, dpi=80)"
      ],
      "execution_count": null,
      "outputs": []
    },
    {
      "cell_type": "code",
      "metadata": {
        "id": "RF0wD_yR7ef8"
      },
      "source": [
        "# Restore checkpoints \n",
        "checkpoint = tf.train.Checkpoint(model=bert_encoder)\n",
        "checkpoint.restore(os.path.join(bert_patents_model, 'variables'))"
      ],
      "execution_count": null,
      "outputs": []
    },
    {
      "cell_type": "code",
      "metadata": {
        "id": "YkPHEYHU7ef8"
      },
      "source": [
        "# Set up epochs and steps\n",
        "epochs = 4\n",
        "batch_size = 8\n",
        "eval_batch_size = 8\n",
        "\n",
        "train_data_size = len(train_labels)\n",
        "steps_per_epoch = int(train_data_size / batch_size)\n",
        "num_train_steps = steps_per_epoch * epochs\n",
        "warmup_steps = int(epochs * train_data_size * 0.1 / batch_size)\n",
        "\n",
        "# Create an optimizer with learning rate schedule\n",
        "optimizer = nlp.optimization.create_optimizer(\n",
        "    2e-5, num_train_steps=num_train_steps, num_warmup_steps=warmup_steps)"
      ],
      "execution_count": null,
      "outputs": []
    },
    {
      "cell_type": "code",
      "metadata": {
        "id": "XbDWo5E37ef8"
      },
      "source": [
        "# Print the type of the optimizer\n",
        "type(optimizer)"
      ],
      "execution_count": null,
      "outputs": []
    },
    {
      "cell_type": "code",
      "metadata": {
        "id": "xcm5emye7ef9"
      },
      "source": [
        "# Custom metrics for the model\n",
        "def recall_m(y_true, y_pred):\n",
        "    true_positives = K.sum(K.round(K.clip(y_true * y_pred, 0, 1)))\n",
        "    possible_positives = K.sum(K.round(K.clip(y_true, 0, 1)))\n",
        "    recall = true_positives / (possible_positives + K.epsilon())\n",
        "    return recall\n",
        "\n",
        "def precision_m(y_true, y_pred):\n",
        "    true_positives = K.sum(K.round(K.clip(y_true * y_pred, 0, 1)))\n",
        "    predicted_positives = K.sum(K.round(K.clip(y_pred, 0, 1)))\n",
        "    precision = true_positives / (predicted_positives + K.epsilon())\n",
        "    return precision\n",
        "\n",
        "def f1_score(y_true, y_pred):\n",
        "    precision = precision_m(y_true, y_pred)\n",
        "    recall = recall_m(y_true, y_pred)\n",
        "    return 2*((precision*recall)/(precision+recall+K.epsilon()))"
      ],
      "execution_count": null,
      "outputs": []
    },
    {
      "cell_type": "code",
      "metadata": {
        "id": "yI971-AR7ef9"
      },
      "source": [
        "# Compile and fit the model\n",
        "metrics = [tf.keras.metrics.SparseCategoricalAccuracy('accuracy', dtype=tf.float32), f1_score, precision_m, recall_m] \n",
        "loss = tf.keras.losses.SparseCategoricalCrossentropy(from_logits=True)\n",
        "earlyStopping = [EarlyStopping(monitor = \"val_loss\", mode = \"min\", patience = 1)]\n",
        "\n",
        "\n",
        "bert_classifier.compile(\n",
        "    optimizer=optimizer,\n",
        "    loss=loss,\n",
        "    metrics=metrics)\n",
        "\n",
        "history = bert_classifier.fit(\n",
        "      train_tokens, train_labels,\n",
        "      validation_data=(test_tokens, test_labels),\n",
        "      batch_size=batch_size,\n",
        "      epochs=epochs,\n",
        "      callbacks = earlyStopping)"
      ],
      "execution_count": null,
      "outputs": []
    },
    {
      "cell_type": "code",
      "metadata": {
        "id": "QAq8op2t7ef9"
      },
      "source": [
        "# Model history\n",
        "history.history"
      ],
      "execution_count": null,
      "outputs": []
    },
    {
      "cell_type": "code",
      "metadata": {
        "id": "Nfnp7Z3Q7ef9"
      },
      "source": [
        "# Train results\n",
        "results_train = bert_classifier.evaluate(train_tokens, train_labels,\n",
        "      batch_size=batch_size)\n",
        "print(\"train loss, train acc, train_f1, train_precision, train_recall:\", results_train)"
      ],
      "execution_count": null,
      "outputs": []
    },
    {
      "cell_type": "code",
      "metadata": {
        "id": "YzDjRFhm7ef9"
      },
      "source": [
        "# Test results\n",
        "results = bert_classifier.evaluate(test_tokens, test_labels,\n",
        "      batch_size=batch_size)\n",
        "print(\"test loss, test acc, test_f1, test_precision, test_recall:\", results)"
      ],
      "execution_count": null,
      "outputs": []
    },
    {
      "cell_type": "code",
      "metadata": {
        "id": "rJ7RxpBM7ef-"
      },
      "source": [
        "# Generate predictions \n",
        "print(\"Generate predictions\")\n",
        "predictions = bert_classifier.predict(test_tokens)\n",
        "print(\"Predictions Shape:\", predictions.shape)"
      ],
      "execution_count": null,
      "outputs": []
    },
    {
      "cell_type": "code",
      "metadata": {
        "id": "VK5UMuq07ef-"
      },
      "source": [
        "# Draw Accuracy & Loss Graph\n",
        "history_dict = history.history\n",
        "print(history_dict.keys())\n",
        "\n",
        "acc = history_dict['accuracy']\n",
        "val_acc = history_dict['val_accuracy']\n",
        "loss = history_dict['loss']\n",
        "val_loss = history_dict['val_loss']\n",
        "\n",
        "epochs = range(1, len(acc) + 1)\n",
        "fig = plt.figure(figsize=(10, 6))\n",
        "fig.tight_layout()\n",
        "\n",
        "plt.subplot(2, 1, 1)\n",
        "# \"bo\" is for \"blue dot\"\n",
        "plt.plot(epochs, loss, 'r', label='Training loss')\n",
        "# b is for \"solid blue line\"\n",
        "plt.plot(epochs, val_loss, 'b', label='Validation loss')\n",
        "plt.title('Training and validation loss')\n",
        "# plt.xlabel('Epochs')\n",
        "plt.ylabel('Loss')\n",
        "plt.legend()\n",
        "\n",
        "plt.subplot(2, 1, 2)\n",
        "plt.plot(epochs, acc, 'r', label='Training acc')\n",
        "plt.plot(epochs, val_acc, 'b', label='Validation acc')\n",
        "plt.title('Training and validation accuracy')\n",
        "plt.xlabel('Epochs')\n",
        "plt.ylabel('Accuracy')\n",
        "plt.legend(loc='lower right')"
      ],
      "execution_count": null,
      "outputs": []
    },
    {
      "cell_type": "code",
      "metadata": {
        "colab": {
          "base_uri": "https://localhost:8080/",
          "height": 542
        },
        "id": "lf7595mf7ef-",
        "outputId": "93d6c7f0-abbf-4fc3-cb65-20c84db618e6"
      },
      "source": [
        "# Draw the final F1 Scores  for total assets prediction based on 9-year time lag\n",
        "scores=['F1 Score'] \n",
        "y1=[0.9284]\n",
        "y2=[0.9319]\n",
        "y3=[0.9319]\n",
        "y4=[0.9319]\n",
        "y5=[0.9451]\n",
        "y6=[0.9388]\n",
        "\n",
        "fig = go.Figure(data=[\n",
        "    go.Bar(name='BERT-Base', x=scores, y=y1),\n",
        "    go.Bar(name='BERT-Base for Patents', x=scores, y=y2),\n",
        "    go.Bar(name='BERT-Large', x=scores, y=y3),\n",
        "    go.Bar(name='BERT-Large for Patents', x=scores, y=y4),\n",
        "    go.Bar(name='SVM', x=scores, y=y5),\n",
        "    go.Bar(name='Naive Bayes', x=scores, y=y6)])\n",
        "# Change the bar mode\n",
        "\n",
        "texts = [y1,y2,y3,y4,y5,y6]\n",
        "for i, t in enumerate(texts):\n",
        "    fig.data[i].text = t\n",
        "    fig.data[i].textposition = 'inside'\n",
        "    fig.update_layout(barmode='group', template=\"plotly_white\", width=700)\n",
        "fig.show()"
      ],
      "execution_count": null,
      "outputs": [
        {
          "output_type": "display_data",
          "data": {
            "text/html": [
              "<html>\n",
              "<head><meta charset=\"utf-8\" /></head>\n",
              "<body>\n",
              "    <div>\n",
              "            <script src=\"https://cdnjs.cloudflare.com/ajax/libs/mathjax/2.7.5/MathJax.js?config=TeX-AMS-MML_SVG\"></script><script type=\"text/javascript\">if (window.MathJax) {MathJax.Hub.Config({SVG: {font: \"STIX-Web\"}});}</script>\n",
              "                <script type=\"text/javascript\">window.PlotlyConfig = {MathJaxConfig: 'local'};</script>\n",
              "        <script src=\"https://cdn.plot.ly/plotly-latest.min.js\"></script>    \n",
              "            <div id=\"f24b0dd7-8688-4dc1-8aa8-62f3c37ae4e1\" class=\"plotly-graph-div\" style=\"height:525px; width:700px;\"></div>\n",
              "            <script type=\"text/javascript\">\n",
              "                \n",
              "                    window.PLOTLYENV=window.PLOTLYENV || {};\n",
              "                    \n",
              "                if (document.getElementById(\"f24b0dd7-8688-4dc1-8aa8-62f3c37ae4e1\")) {\n",
              "                    Plotly.newPlot(\n",
              "                        'f24b0dd7-8688-4dc1-8aa8-62f3c37ae4e1',\n",
              "                        [{\"name\": \"BERT-Base\", \"text\": [\"0.9284\"], \"textposition\": \"inside\", \"type\": \"bar\", \"x\": [\"F1 Score\"], \"y\": [0.9284]}, {\"name\": \"BERT-Base for Patents\", \"text\": [\"0.9319\"], \"textposition\": \"inside\", \"type\": \"bar\", \"x\": [\"F1 Score\"], \"y\": [0.9319]}, {\"name\": \"BERT-Large\", \"text\": [\"0.9319\"], \"textposition\": \"inside\", \"type\": \"bar\", \"x\": [\"F1 Score\"], \"y\": [0.9319]}, {\"name\": \"BERT-Large for Patents\", \"text\": [\"0.9319\"], \"textposition\": \"inside\", \"type\": \"bar\", \"x\": [\"F1 Score\"], \"y\": [0.9319]}, {\"name\": \"SVM\", \"text\": [\"0.9451\"], \"textposition\": \"inside\", \"type\": \"bar\", \"x\": [\"F1 Score\"], \"y\": [0.9451]}, {\"name\": \"Naive Bayes\", \"text\": [\"0.9388\"], \"textposition\": \"inside\", \"type\": \"bar\", \"x\": [\"F1 Score\"], \"y\": [0.9388]}],\n",
              "                        {\"barmode\": \"group\", \"template\": {\"data\": {\"bar\": [{\"error_x\": {\"color\": \"#2a3f5f\"}, \"error_y\": {\"color\": \"#2a3f5f\"}, \"marker\": {\"line\": {\"color\": \"white\", \"width\": 0.5}}, \"type\": \"bar\"}], \"barpolar\": [{\"marker\": {\"line\": {\"color\": \"white\", \"width\": 0.5}}, \"type\": \"barpolar\"}], \"carpet\": [{\"aaxis\": {\"endlinecolor\": \"#2a3f5f\", \"gridcolor\": \"#C8D4E3\", \"linecolor\": \"#C8D4E3\", \"minorgridcolor\": \"#C8D4E3\", \"startlinecolor\": \"#2a3f5f\"}, \"baxis\": {\"endlinecolor\": \"#2a3f5f\", \"gridcolor\": \"#C8D4E3\", \"linecolor\": \"#C8D4E3\", \"minorgridcolor\": \"#C8D4E3\", \"startlinecolor\": \"#2a3f5f\"}, \"type\": \"carpet\"}], \"choropleth\": [{\"colorbar\": {\"outlinewidth\": 0, \"ticks\": \"\"}, \"type\": \"choropleth\"}], \"contour\": [{\"colorbar\": {\"outlinewidth\": 0, \"ticks\": \"\"}, \"colorscale\": [[0.0, \"#0d0887\"], [0.1111111111111111, \"#46039f\"], [0.2222222222222222, \"#7201a8\"], [0.3333333333333333, \"#9c179e\"], [0.4444444444444444, \"#bd3786\"], [0.5555555555555556, \"#d8576b\"], [0.6666666666666666, \"#ed7953\"], [0.7777777777777778, \"#fb9f3a\"], [0.8888888888888888, \"#fdca26\"], [1.0, \"#f0f921\"]], \"type\": \"contour\"}], \"contourcarpet\": [{\"colorbar\": {\"outlinewidth\": 0, \"ticks\": \"\"}, \"type\": \"contourcarpet\"}], \"heatmap\": [{\"colorbar\": {\"outlinewidth\": 0, \"ticks\": \"\"}, \"colorscale\": [[0.0, \"#0d0887\"], [0.1111111111111111, \"#46039f\"], [0.2222222222222222, \"#7201a8\"], [0.3333333333333333, \"#9c179e\"], [0.4444444444444444, \"#bd3786\"], [0.5555555555555556, \"#d8576b\"], [0.6666666666666666, \"#ed7953\"], [0.7777777777777778, \"#fb9f3a\"], [0.8888888888888888, \"#fdca26\"], [1.0, \"#f0f921\"]], \"type\": \"heatmap\"}], \"heatmapgl\": [{\"colorbar\": {\"outlinewidth\": 0, \"ticks\": \"\"}, \"colorscale\": [[0.0, \"#0d0887\"], [0.1111111111111111, \"#46039f\"], [0.2222222222222222, \"#7201a8\"], [0.3333333333333333, \"#9c179e\"], [0.4444444444444444, \"#bd3786\"], [0.5555555555555556, \"#d8576b\"], [0.6666666666666666, \"#ed7953\"], [0.7777777777777778, \"#fb9f3a\"], [0.8888888888888888, \"#fdca26\"], [1.0, \"#f0f921\"]], \"type\": \"heatmapgl\"}], \"histogram\": [{\"marker\": {\"colorbar\": {\"outlinewidth\": 0, \"ticks\": \"\"}}, \"type\": \"histogram\"}], \"histogram2d\": [{\"colorbar\": {\"outlinewidth\": 0, \"ticks\": \"\"}, \"colorscale\": [[0.0, \"#0d0887\"], [0.1111111111111111, \"#46039f\"], [0.2222222222222222, \"#7201a8\"], [0.3333333333333333, \"#9c179e\"], [0.4444444444444444, \"#bd3786\"], [0.5555555555555556, \"#d8576b\"], [0.6666666666666666, \"#ed7953\"], [0.7777777777777778, \"#fb9f3a\"], [0.8888888888888888, \"#fdca26\"], [1.0, \"#f0f921\"]], \"type\": \"histogram2d\"}], \"histogram2dcontour\": [{\"colorbar\": {\"outlinewidth\": 0, \"ticks\": \"\"}, \"colorscale\": [[0.0, \"#0d0887\"], [0.1111111111111111, \"#46039f\"], [0.2222222222222222, \"#7201a8\"], [0.3333333333333333, \"#9c179e\"], [0.4444444444444444, \"#bd3786\"], [0.5555555555555556, \"#d8576b\"], [0.6666666666666666, \"#ed7953\"], [0.7777777777777778, \"#fb9f3a\"], [0.8888888888888888, \"#fdca26\"], [1.0, \"#f0f921\"]], \"type\": \"histogram2dcontour\"}], \"mesh3d\": [{\"colorbar\": {\"outlinewidth\": 0, \"ticks\": \"\"}, \"type\": \"mesh3d\"}], \"parcoords\": [{\"line\": {\"colorbar\": {\"outlinewidth\": 0, \"ticks\": \"\"}}, \"type\": \"parcoords\"}], \"pie\": [{\"automargin\": true, \"type\": \"pie\"}], \"scatter\": [{\"marker\": {\"colorbar\": {\"outlinewidth\": 0, \"ticks\": \"\"}}, \"type\": \"scatter\"}], \"scatter3d\": [{\"line\": {\"colorbar\": {\"outlinewidth\": 0, \"ticks\": \"\"}}, \"marker\": {\"colorbar\": {\"outlinewidth\": 0, \"ticks\": \"\"}}, \"type\": \"scatter3d\"}], \"scattercarpet\": [{\"marker\": {\"colorbar\": {\"outlinewidth\": 0, \"ticks\": \"\"}}, \"type\": \"scattercarpet\"}], \"scattergeo\": [{\"marker\": {\"colorbar\": {\"outlinewidth\": 0, \"ticks\": \"\"}}, \"type\": \"scattergeo\"}], \"scattergl\": [{\"marker\": {\"colorbar\": {\"outlinewidth\": 0, \"ticks\": \"\"}}, \"type\": \"scattergl\"}], \"scattermapbox\": [{\"marker\": {\"colorbar\": {\"outlinewidth\": 0, \"ticks\": \"\"}}, \"type\": \"scattermapbox\"}], \"scatterpolar\": [{\"marker\": {\"colorbar\": {\"outlinewidth\": 0, \"ticks\": \"\"}}, \"type\": \"scatterpolar\"}], \"scatterpolargl\": [{\"marker\": {\"colorbar\": {\"outlinewidth\": 0, \"ticks\": \"\"}}, \"type\": \"scatterpolargl\"}], \"scatterternary\": [{\"marker\": {\"colorbar\": {\"outlinewidth\": 0, \"ticks\": \"\"}}, \"type\": \"scatterternary\"}], \"surface\": [{\"colorbar\": {\"outlinewidth\": 0, \"ticks\": \"\"}, \"colorscale\": [[0.0, \"#0d0887\"], [0.1111111111111111, \"#46039f\"], [0.2222222222222222, \"#7201a8\"], [0.3333333333333333, \"#9c179e\"], [0.4444444444444444, \"#bd3786\"], [0.5555555555555556, \"#d8576b\"], [0.6666666666666666, \"#ed7953\"], [0.7777777777777778, \"#fb9f3a\"], [0.8888888888888888, \"#fdca26\"], [1.0, \"#f0f921\"]], \"type\": \"surface\"}], \"table\": [{\"cells\": {\"fill\": {\"color\": \"#EBF0F8\"}, \"line\": {\"color\": \"white\"}}, \"header\": {\"fill\": {\"color\": \"#C8D4E3\"}, \"line\": {\"color\": \"white\"}}, \"type\": \"table\"}]}, \"layout\": {\"annotationdefaults\": {\"arrowcolor\": \"#2a3f5f\", \"arrowhead\": 0, \"arrowwidth\": 1}, \"coloraxis\": {\"colorbar\": {\"outlinewidth\": 0, \"ticks\": \"\"}}, \"colorscale\": {\"diverging\": [[0, \"#8e0152\"], [0.1, \"#c51b7d\"], [0.2, \"#de77ae\"], [0.3, \"#f1b6da\"], [0.4, \"#fde0ef\"], [0.5, \"#f7f7f7\"], [0.6, \"#e6f5d0\"], [0.7, \"#b8e186\"], [0.8, \"#7fbc41\"], [0.9, \"#4d9221\"], [1, \"#276419\"]], \"sequential\": [[0.0, \"#0d0887\"], [0.1111111111111111, \"#46039f\"], [0.2222222222222222, \"#7201a8\"], [0.3333333333333333, \"#9c179e\"], [0.4444444444444444, \"#bd3786\"], [0.5555555555555556, \"#d8576b\"], [0.6666666666666666, \"#ed7953\"], [0.7777777777777778, \"#fb9f3a\"], [0.8888888888888888, \"#fdca26\"], [1.0, \"#f0f921\"]], \"sequentialminus\": [[0.0, \"#0d0887\"], [0.1111111111111111, \"#46039f\"], [0.2222222222222222, \"#7201a8\"], [0.3333333333333333, \"#9c179e\"], [0.4444444444444444, \"#bd3786\"], [0.5555555555555556, \"#d8576b\"], [0.6666666666666666, \"#ed7953\"], [0.7777777777777778, \"#fb9f3a\"], [0.8888888888888888, \"#fdca26\"], [1.0, \"#f0f921\"]]}, \"colorway\": [\"#636efa\", \"#EF553B\", \"#00cc96\", \"#ab63fa\", \"#FFA15A\", \"#19d3f3\", \"#FF6692\", \"#B6E880\", \"#FF97FF\", \"#FECB52\"], \"font\": {\"color\": \"#2a3f5f\"}, \"geo\": {\"bgcolor\": \"white\", \"lakecolor\": \"white\", \"landcolor\": \"white\", \"showlakes\": true, \"showland\": true, \"subunitcolor\": \"#C8D4E3\"}, \"hoverlabel\": {\"align\": \"left\"}, \"hovermode\": \"closest\", \"mapbox\": {\"style\": \"light\"}, \"paper_bgcolor\": \"white\", \"plot_bgcolor\": \"white\", \"polar\": {\"angularaxis\": {\"gridcolor\": \"#EBF0F8\", \"linecolor\": \"#EBF0F8\", \"ticks\": \"\"}, \"bgcolor\": \"white\", \"radialaxis\": {\"gridcolor\": \"#EBF0F8\", \"linecolor\": \"#EBF0F8\", \"ticks\": \"\"}}, \"scene\": {\"xaxis\": {\"backgroundcolor\": \"white\", \"gridcolor\": \"#DFE8F3\", \"gridwidth\": 2, \"linecolor\": \"#EBF0F8\", \"showbackground\": true, \"ticks\": \"\", \"zerolinecolor\": \"#EBF0F8\"}, \"yaxis\": {\"backgroundcolor\": \"white\", \"gridcolor\": \"#DFE8F3\", \"gridwidth\": 2, \"linecolor\": \"#EBF0F8\", \"showbackground\": true, \"ticks\": \"\", \"zerolinecolor\": \"#EBF0F8\"}, \"zaxis\": {\"backgroundcolor\": \"white\", \"gridcolor\": \"#DFE8F3\", \"gridwidth\": 2, \"linecolor\": \"#EBF0F8\", \"showbackground\": true, \"ticks\": \"\", \"zerolinecolor\": \"#EBF0F8\"}}, \"shapedefaults\": {\"line\": {\"color\": \"#2a3f5f\"}}, \"ternary\": {\"aaxis\": {\"gridcolor\": \"#DFE8F3\", \"linecolor\": \"#A2B1C6\", \"ticks\": \"\"}, \"baxis\": {\"gridcolor\": \"#DFE8F3\", \"linecolor\": \"#A2B1C6\", \"ticks\": \"\"}, \"bgcolor\": \"white\", \"caxis\": {\"gridcolor\": \"#DFE8F3\", \"linecolor\": \"#A2B1C6\", \"ticks\": \"\"}}, \"title\": {\"x\": 0.05}, \"xaxis\": {\"automargin\": true, \"gridcolor\": \"#EBF0F8\", \"linecolor\": \"#EBF0F8\", \"ticks\": \"\", \"title\": {\"standoff\": 15}, \"zerolinecolor\": \"#EBF0F8\", \"zerolinewidth\": 2}, \"yaxis\": {\"automargin\": true, \"gridcolor\": \"#EBF0F8\", \"linecolor\": \"#EBF0F8\", \"ticks\": \"\", \"title\": {\"standoff\": 15}, \"zerolinecolor\": \"#EBF0F8\", \"zerolinewidth\": 2}}}, \"width\": 700},\n",
              "                        {\"responsive\": true}\n",
              "                    ).then(function(){\n",
              "                            \n",
              "var gd = document.getElementById('f24b0dd7-8688-4dc1-8aa8-62f3c37ae4e1');\n",
              "var x = new MutationObserver(function (mutations, observer) {{\n",
              "        var display = window.getComputedStyle(gd).display;\n",
              "        if (!display || display === 'none') {{\n",
              "            console.log([gd, 'removed!']);\n",
              "            Plotly.purge(gd);\n",
              "            observer.disconnect();\n",
              "        }}\n",
              "}});\n",
              "\n",
              "// Listen for the removal of the full notebook cells\n",
              "var notebookContainer = gd.closest('#notebook-container');\n",
              "if (notebookContainer) {{\n",
              "    x.observe(notebookContainer, {childList: true});\n",
              "}}\n",
              "\n",
              "// Listen for the clearing of the current output cell\n",
              "var outputEl = gd.closest('.output');\n",
              "if (outputEl) {{\n",
              "    x.observe(outputEl, {childList: true});\n",
              "}}\n",
              "\n",
              "                        })\n",
              "                };\n",
              "                \n",
              "            </script>\n",
              "        </div>\n",
              "</body>\n",
              "</html>"
            ]
          },
          "metadata": {
            "tags": []
          }
        }
      ]
    },
    {
      "cell_type": "markdown",
      "metadata": {
        "id": "g7xRhIHKbrBu"
      },
      "source": [
        "## Benchmarks"
      ]
    },
    {
      "cell_type": "code",
      "metadata": {
        "id": "dXRT9iCWhrtV"
      },
      "source": [
        "# Gather the patent text and the label for train and test sets\n",
        "Train_X = train['abstract_title']\n",
        "Train_Y = train['total_assets_label_9']\n",
        "\n",
        "Test_X = test['abstract_title']\n",
        "Test_Y = test['total_assets_label_9']"
      ],
      "execution_count": null,
      "outputs": []
    },
    {
      "cell_type": "code",
      "metadata": {
        "id": "dCenVcAHcqIB"
      },
      "source": [
        "# Label encode the target variable \n",
        "Encoder = LabelEncoder()\n",
        "Train_Y = Encoder.fit_transform(Train_Y)\n",
        "Test_Y = Encoder.fit_transform(Test_Y)"
      ],
      "execution_count": null,
      "outputs": []
    },
    {
      "cell_type": "code",
      "metadata": {
        "id": "2fCUuVYacsBv"
      },
      "source": [
        "# Vectorize the words by using TF-IDF Vectorizer \n",
        "Tfidf_vect = TfidfVectorizer(max_features=5000)\n",
        "Tfidf_vect.fit(Train_X)\n",
        "\n",
        "Train_X_Tfidf = Tfidf_vect.transform(Train_X)\n",
        "Test_X_Tfidf = Tfidf_vect.transform(Test_X)"
      ],
      "execution_count": null,
      "outputs": []
    },
    {
      "cell_type": "code",
      "metadata": {
        "id": "iSCjUlUSct1B"
      },
      "source": [
        "# Classifier - Algorithm - Naive Bayes\n",
        "# fit the training dataset on the classifier\n",
        "Naive = naive_bayes.MultinomialNB()\n",
        "Naive.fit(Train_X_Tfidf,Train_Y)\n",
        "\n",
        "# predict the labels on validation dataset\n",
        "predictions_NB_test = Naive.predict(Test_X_Tfidf)\n",
        "\n",
        "# predict the labels on validation dataset\n",
        "predictions_NB_train = Naive.predict(Train_X_Tfidf)"
      ],
      "execution_count": null,
      "outputs": []
    },
    {
      "cell_type": "code",
      "metadata": {
        "id": "kfwWKqUoxVdl"
      },
      "source": [
        "# NB Scores\n",
        "\n",
        "# Accuracy Score\n",
        "print(\"NB Train Accuracy Score -> \", accuracy_score(Train_Y, predictions_NB_train))\n",
        "print(\"NB Test Accuracy Score -> \", accuracy_score(Test_Y, predictions_NB_test))\n",
        "\n",
        "# F1 Score\n",
        "print(\"NB Train F1 Score -> \", f1_score(Train_Y, predictions_NB_train))\n",
        "print(\"NB Test F1 Score -> \", f1_score(Test_Y, predictions_NB_test)) \n",
        "\n",
        "# Precision Score\n",
        "print(\"NB Train Precision Score -> \", precision_score(Train_Y, predictions_NB_train)) \n",
        "print(\"NB Test Precision Score -> \", precision_score(Test_Y, predictions_NB_test)) "
      ],
      "execution_count": null,
      "outputs": []
    },
    {
      "cell_type": "code",
      "metadata": {
        "id": "p2kHM34ozD0v"
      },
      "source": [
        "# Classifier - Algorithm - SVM\n",
        "# fit the training dataset on the classifier\n",
        "SVM = svm.SVC(C=1.0, kernel='linear', degree=3, gamma='auto')\n",
        "SVM.fit(Train_X_Tfidf,Train_Y)\n",
        "\n",
        "# predict the labels on validation dataset\n",
        "predictions_SVM_test = SVM.predict(Test_X_Tfidf)\n",
        "\n",
        "# predict the labels on validation dataset\n",
        "predictions_SVM_train = SVM.predict(Train_X_Tfidf)"
      ],
      "execution_count": null,
      "outputs": []
    },
    {
      "cell_type": "code",
      "metadata": {
        "id": "5RyWBKM1x-BA"
      },
      "source": [
        "# SVM Scores\n",
        "\n",
        "# Accuracy Score\n",
        "print(\"SVM Train Accuracy Score -> \", accuracy_score(Train_Y, predictions_SVM_train))\n",
        "print(\"SVM Test Accuracy Score -> \", accuracy_score(Test_Y, predictions_SVM_test))\n",
        "\n",
        "# F1 Score\n",
        "print(\"SVM Train F1 Score -> \", f1_score(Train_Y, predictions_SVM_train)) \n",
        "print(\"SVM Test F1 Score -> \", f1_score(Test_Y, predictions_SVM_test))\n",
        "\n",
        "# Precision Score\n",
        "print(\"SVM Train Precision Score -> \", precision_score(Train_Y, predictions_SVM_train)) \n",
        "print(\"SVM Test Precision Score -> \", precision_score(Test_Y, predictions_SVM_test)) "
      ],
      "execution_count": null,
      "outputs": []
    },
    {
      "cell_type": "markdown",
      "metadata": {
        "id": "LmZt1oVDWU_G"
      },
      "source": [
        "## Discussion "
      ]
    },
    {
      "cell_type": "markdown",
      "metadata": {
        "id": "A71BOGzMV746"
      },
      "source": [
        "### Granted patents"
      ]
    },
    {
      "cell_type": "code",
      "metadata": {
        "id": "ZlVcMwxeRN04"
      },
      "source": [
        "# Select only granted patents\n",
        "df = df[df['grant_date'] != 0]"
      ],
      "execution_count": 65,
      "outputs": []
    },
    {
      "cell_type": "code",
      "metadata": {
        "id": "FFr9pGTwRfnh"
      },
      "source": [
        "# Convert the columns into datetime\n",
        "df['filing_date'] = pd.to_datetime(df['filing_date'].astype(str).str.strip())\n",
        "df['grant_date'] = pd.to_datetime(df['grant_date'].astype(str).str.strip())"
      ],
      "execution_count": 68,
      "outputs": []
    },
    {
      "cell_type": "code",
      "metadata": {
        "id": "0w8K-aJVRq9H"
      },
      "source": [
        "# Create grant lag column\n",
        "df['grant_lag'] = df['grant_date'] - df['filing_date']"
      ],
      "execution_count": 70,
      "outputs": []
    },
    {
      "cell_type": "code",
      "metadata": {
        "id": "-Yxwk4rPZh3t"
      },
      "source": [
        "# Convert grant lag from days to years\n",
        "df['grant_lag'] = df.grant_lag / np.timedelta64(1, 'Y')\n",
        "df['grant_lag'] = round(df['grant_lag'],ndigits=1)"
      ],
      "execution_count": 72,
      "outputs": []
    },
    {
      "cell_type": "code",
      "metadata": {
        "colab": {
          "base_uri": "https://localhost:8080/"
        },
        "id": "OnLijdPIZsAN",
        "outputId": "57800ab0-30f0-42d3-d638-f7d6a3851f74"
      },
      "source": [
        "# Grant lag distribution\n",
        "df['grant_lag'].describe()"
      ],
      "execution_count": 73,
      "outputs": [
        {
          "output_type": "execute_result",
          "data": {
            "text/plain": [
              "count    6240.000000\n",
              "mean        5.593141\n",
              "std         2.473068\n",
              "min         1.000000\n",
              "25%         3.600000\n",
              "50%         5.100000\n",
              "75%         7.100000\n",
              "max        18.600000\n",
              "Name: grant_lag, dtype: float64"
            ]
          },
          "metadata": {
            "tags": []
          },
          "execution_count": 73
        }
      ]
    },
    {
      "cell_type": "code",
      "metadata": {
        "colab": {
          "base_uri": "https://localhost:8080/",
          "height": 295
        },
        "id": "1S5-ZHxTiyZD",
        "outputId": "41f5f53f-f1fa-47f7-8cda-a1b6613eef57"
      },
      "source": [
        "df.grant_lag.plot.hist(grid=True, bins=20, rwidth=0.9, density=True,\n",
        "                   color='#607c8e')\n",
        "plt.title('Grant Lag Distribution')\n",
        "plt.xlabel('Grant Lag in Years')\n",
        "plt.ylabel('Density')\n",
        "plt.grid(axis='x')"
      ],
      "execution_count": 76,
      "outputs": [
        {
          "output_type": "display_data",
          "data": {
            "image/png": "[encoded data removed]",
            "text/plain": [
              "<Figure size 432x288 with 1 Axes>"
            ]
          },
          "metadata": {
            "tags": [],
            "needs_background": "light"
          }
        }
      ]
    },
    {
      "cell_type": "markdown",
      "metadata": {
        "id": "6UJ3ma1JE6O6"
      },
      "source": [
        "### Data Preparation for Causality Analysis"
      ]
    },
    {
      "cell_type": "code",
      "metadata": {
        "id": "MIv6vZsrHxxb"
      },
      "source": [
        "# Drop multiple patent publications\n",
        "df = df.drop_duplicates(subset=['publication_number'], keep='first', ignore_index=True)"
      ],
      "execution_count": 5,
      "outputs": []
    },
    {
      "cell_type": "code",
      "metadata": {
        "id": "FEu1U9yrMYEo"
      },
      "source": [
        "# Create a new column of patent publication year\n",
        "df['publication_date'] = pd.to_datetime(df['publication_date'])\n",
        "df['year'] = df['publication_date'].dt.year"
      ],
      "execution_count": 6,
      "outputs": []
    },
    {
      "cell_type": "code",
      "metadata": {
        "colab": {
          "base_uri": "https://localhost:8080/",
          "height": 204
        },
        "id": "GETq9hDTIPvd",
        "outputId": "aecc90e4-9ad2-4a10-b0a7-016aeda2bec4"
      },
      "source": [
        "# Gather total number of published patents per company per year\n",
        "patent_count = pd.DataFrame(df[['company', 'year']].value_counts()).reset_index()\n",
        "patent_count.columns = ['company','year', 'num_patents']\n",
        "patent_count.head()"
      ],
      "execution_count": 7,
      "outputs": [
        {
          "output_type": "execute_result",
          "data": {
            "text/html": [
              "<div>\n",
              "<style scoped>\n",
              "    .dataframe tbody tr th:only-of-type {\n",
              "        vertical-align: middle;\n",
              "    }\n",
              "\n",
              "    .dataframe tbody tr th {\n",
              "        vertical-align: top;\n",
              "    }\n",
              "\n",
              "    .dataframe thead th {\n",
              "        text-align: right;\n",
              "    }\n",
              "</style>\n",
              "<table border=\"1\" class=\"dataframe\">\n",
              "  <thead>\n",
              "    <tr style=\"text-align: right;\">\n",
              "      <th></th>\n",
              "      <th>company</th>\n",
              "      <th>year</th>\n",
              "      <th>num_patents</th>\n",
              "    </tr>\n",
              "  </thead>\n",
              "  <tbody>\n",
              "    <tr>\n",
              "      <th>0</th>\n",
              "      <td>UNITED TECHNOLOGIES CORP</td>\n",
              "      <td>2016</td>\n",
              "      <td>781</td>\n",
              "    </tr>\n",
              "    <tr>\n",
              "      <th>1</th>\n",
              "      <td>GEN ELECTRIC</td>\n",
              "      <td>2017</td>\n",
              "      <td>672</td>\n",
              "    </tr>\n",
              "    <tr>\n",
              "      <th>2</th>\n",
              "      <td>TOYOTA MOTOR CO LTD</td>\n",
              "      <td>2013</td>\n",
              "      <td>600</td>\n",
              "    </tr>\n",
              "    <tr>\n",
              "      <th>3</th>\n",
              "      <td>GEN ELECTRIC</td>\n",
              "      <td>2012</td>\n",
              "      <td>595</td>\n",
              "    </tr>\n",
              "    <tr>\n",
              "      <th>4</th>\n",
              "      <td>TOYOTA MOTOR CO LTD</td>\n",
              "      <td>2014</td>\n",
              "      <td>546</td>\n",
              "    </tr>\n",
              "  </tbody>\n",
              "</table>\n",
              "</div>"
            ],
            "text/plain": [
              "                    company  year  num_patents\n",
              "0  UNITED TECHNOLOGIES CORP  2016          781\n",
              "1              GEN ELECTRIC  2017          672\n",
              "2       TOYOTA MOTOR CO LTD  2013          600\n",
              "3              GEN ELECTRIC  2012          595\n",
              "4       TOYOTA MOTOR CO LTD  2014          546"
            ]
          },
          "metadata": {
            "tags": []
          },
          "execution_count": 7
        }
      ]
    },
    {
      "cell_type": "code",
      "metadata": {
        "id": "R0ITgKEDJBbn"
      },
      "source": [
        "# Create a dataset only with financial columns and company name\n",
        "df_fin = df[['company', 'total_rev_2010', 'total_rev_2011', 'total_rev_2012','total_rev_2013' ,'total_rev_2014' ,'total_rev_2015' ,'total_rev_2016',\n",
        "              'total_rev_2017', 'total_rev_2018', 'total_rev_2019', 'total_assets_2010', 'total_assets_2011', 'total_assets_2012', 'total_assets_2013',\n",
        "              'total_assets_2014', 'total_assets_2015', 'total_assets_2016', 'total_assets_2017', 'total_assets_2018', \n",
        "             'total_assets_2019']].drop_duplicates(subset=['company'], keep='first', ignore_index=True)           "
      ],
      "execution_count": null,
      "outputs": []
    },
    {
      "cell_type": "code",
      "metadata": {
        "colab": {
          "base_uri": "https://localhost:8080/",
          "height": 292
        },
        "id": "rmxZlQAyI9__",
        "outputId": "948d5f6a-9dbb-4145-a187-9e49161c4944"
      },
      "source": [
        "# Merge yearly patent counts with the financial data\n",
        "patent_causality = pd.merge(patent_count, df_fin, on='company', how='left') \n",
        "patent_causality.head() "
      ],
      "execution_count": 9,
      "outputs": [
        {
          "output_type": "execute_result",
          "data": {
            "text/html": [
              "<div>\n",
              "<style scoped>\n",
              "    .dataframe tbody tr th:only-of-type {\n",
              "        vertical-align: middle;\n",
              "    }\n",
              "\n",
              "    .dataframe tbody tr th {\n",
              "        vertical-align: top;\n",
              "    }\n",
              "\n",
              "    .dataframe thead th {\n",
              "        text-align: right;\n",
              "    }\n",
              "</style>\n",
              "<table border=\"1\" class=\"dataframe\">\n",
              "  <thead>\n",
              "    <tr style=\"text-align: right;\">\n",
              "      <th></th>\n",
              "      <th>company</th>\n",
              "      <th>year</th>\n",
              "      <th>num_patents</th>\n",
              "      <th>total_rev_2010</th>\n",
              "      <th>total_rev_2011</th>\n",
              "      <th>total_rev_2012</th>\n",
              "      <th>total_rev_2013</th>\n",
              "      <th>total_rev_2014</th>\n",
              "      <th>total_rev_2015</th>\n",
              "      <th>total_rev_2016</th>\n",
              "      <th>total_rev_2017</th>\n",
              "      <th>total_rev_2018</th>\n",
              "      <th>total_rev_2019</th>\n",
              "      <th>total_assets_2010</th>\n",
              "      <th>total_assets_2011</th>\n",
              "      <th>total_assets_2012</th>\n",
              "      <th>total_assets_2013</th>\n",
              "      <th>total_assets_2014</th>\n",
              "      <th>total_assets_2015</th>\n",
              "      <th>total_assets_2016</th>\n",
              "      <th>total_assets_2017</th>\n",
              "      <th>total_assets_2018</th>\n",
              "      <th>total_assets_2019</th>\n",
              "    </tr>\n",
              "  </thead>\n",
              "  <tbody>\n",
              "    <tr>\n",
              "      <th>0</th>\n",
              "      <td>UNITED TECHNOLOGIES CORP</td>\n",
              "      <td>2016</td>\n",
              "      <td>781</td>\n",
              "      <td>38984.08</td>\n",
              "      <td>42916.64</td>\n",
              "      <td>43768.63</td>\n",
              "      <td>41100.09</td>\n",
              "      <td>47834.09</td>\n",
              "      <td>51652.23</td>\n",
              "      <td>54227.24</td>\n",
              "      <td>49832.25</td>\n",
              "      <td>58081.97</td>\n",
              "      <td>68655.69</td>\n",
              "      <td>43621.15</td>\n",
              "      <td>47302.68</td>\n",
              "      <td>67812.26</td>\n",
              "      <td>65784.83</td>\n",
              "      <td>75349.84</td>\n",
              "      <td>80550.89</td>\n",
              "      <td>84978.49</td>\n",
              "      <td>80714.98</td>\n",
              "      <td>117219.89</td>\n",
              "      <td>124500.93</td>\n",
              "    </tr>\n",
              "    <tr>\n",
              "      <th>1</th>\n",
              "      <td>GEN ELECTRIC</td>\n",
              "      <td>2017</td>\n",
              "      <td>672</td>\n",
              "      <td>NaN</td>\n",
              "      <td>NaN</td>\n",
              "      <td>NaN</td>\n",
              "      <td>NaN</td>\n",
              "      <td>628.29</td>\n",
              "      <td>851.76</td>\n",
              "      <td>876.98</td>\n",
              "      <td>804.92</td>\n",
              "      <td>NaN</td>\n",
              "      <td>NaN</td>\n",
              "      <td>NaN</td>\n",
              "      <td>NaN</td>\n",
              "      <td>NaN</td>\n",
              "      <td>NaN</td>\n",
              "      <td>1043.43</td>\n",
              "      <td>1490.01</td>\n",
              "      <td>8676.31</td>\n",
              "      <td>8301.33</td>\n",
              "      <td>NaN</td>\n",
              "      <td>NaN</td>\n",
              "    </tr>\n",
              "    <tr>\n",
              "      <th>2</th>\n",
              "      <td>TOYOTA MOTOR CO LTD</td>\n",
              "      <td>2013</td>\n",
              "      <td>600</td>\n",
              "      <td>149951.23</td>\n",
              "      <td>161629.14</td>\n",
              "      <td>169160.63</td>\n",
              "      <td>182812.25</td>\n",
              "      <td>181116.13</td>\n",
              "      <td>211278.06</td>\n",
              "      <td>221959.40</td>\n",
              "      <td>231469.91</td>\n",
              "      <td>224540.72</td>\n",
              "      <td>243038.38</td>\n",
              "      <td>240141.39</td>\n",
              "      <td>253741.38</td>\n",
              "      <td>279005.24</td>\n",
              "      <td>293996.03</td>\n",
              "      <td>292115.08</td>\n",
              "      <td>370275.13</td>\n",
              "      <td>370628.36</td>\n",
              "      <td>408889.46</td>\n",
              "      <td>384494.17</td>\n",
              "      <td>417614.15</td>\n",
              "    </tr>\n",
              "    <tr>\n",
              "      <th>3</th>\n",
              "      <td>GEN ELECTRIC</td>\n",
              "      <td>2012</td>\n",
              "      <td>595</td>\n",
              "      <td>NaN</td>\n",
              "      <td>NaN</td>\n",
              "      <td>NaN</td>\n",
              "      <td>NaN</td>\n",
              "      <td>628.29</td>\n",
              "      <td>851.76</td>\n",
              "      <td>876.98</td>\n",
              "      <td>804.92</td>\n",
              "      <td>NaN</td>\n",
              "      <td>NaN</td>\n",
              "      <td>NaN</td>\n",
              "      <td>NaN</td>\n",
              "      <td>NaN</td>\n",
              "      <td>NaN</td>\n",
              "      <td>1043.43</td>\n",
              "      <td>1490.01</td>\n",
              "      <td>8676.31</td>\n",
              "      <td>8301.33</td>\n",
              "      <td>NaN</td>\n",
              "      <td>NaN</td>\n",
              "    </tr>\n",
              "    <tr>\n",
              "      <th>4</th>\n",
              "      <td>TOYOTA MOTOR CO LTD</td>\n",
              "      <td>2014</td>\n",
              "      <td>546</td>\n",
              "      <td>149951.23</td>\n",
              "      <td>161629.14</td>\n",
              "      <td>169160.63</td>\n",
              "      <td>182812.25</td>\n",
              "      <td>181116.13</td>\n",
              "      <td>211278.06</td>\n",
              "      <td>221959.40</td>\n",
              "      <td>231469.91</td>\n",
              "      <td>224540.72</td>\n",
              "      <td>243038.38</td>\n",
              "      <td>240141.39</td>\n",
              "      <td>253741.38</td>\n",
              "      <td>279005.24</td>\n",
              "      <td>293996.03</td>\n",
              "      <td>292115.08</td>\n",
              "      <td>370275.13</td>\n",
              "      <td>370628.36</td>\n",
              "      <td>408889.46</td>\n",
              "      <td>384494.17</td>\n",
              "      <td>417614.15</td>\n",
              "    </tr>\n",
              "  </tbody>\n",
              "</table>\n",
              "</div>"
            ],
            "text/plain": [
              "                    company  year  ...  total_assets_2018  total_assets_2019\n",
              "0  UNITED TECHNOLOGIES CORP  2016  ...          117219.89          124500.93\n",
              "1              GEN ELECTRIC  2017  ...                NaN                NaN\n",
              "2       TOYOTA MOTOR CO LTD  2013  ...          384494.17          417614.15\n",
              "3              GEN ELECTRIC  2012  ...                NaN                NaN\n",
              "4       TOYOTA MOTOR CO LTD  2014  ...          384494.17          417614.15\n",
              "\n",
              "[5 rows x 23 columns]"
            ]
          },
          "metadata": {
            "tags": []
          },
          "execution_count": 9
        }
      ]
    },
    {
      "cell_type": "markdown",
      "metadata": {
        "id": "g4mIHdcsKMEQ"
      },
      "source": [
        "#### Asset Causality"
      ]
    },
    {
      "cell_type": "code",
      "metadata": {
        "colab": {
          "base_uri": "https://localhost:8080/",
          "height": 204
        },
        "id": "QLp19ul9K9KR",
        "outputId": "88947e02-4d46-4627-b346-9da1cafcc858"
      },
      "source": [
        "# Select only asset columns\n",
        "asset_causality = patent_causality[['company', 'year', 'num_patents','total_assets_2010', 'total_assets_2011', 'total_assets_2012', 'total_assets_2013',\n",
        "              'total_assets_2014', 'total_assets_2015', 'total_assets_2016', 'total_assets_2017', 'total_assets_2018', 'total_assets_2019']]\n",
        "asset_causality.columns = asset_causality.columns.str.replace('total_assets_','')              \n",
        "asset_causality.head()              "
      ],
      "execution_count": 10,
      "outputs": [
        {
          "output_type": "execute_result",
          "data": {
            "text/html": [
              "<div>\n",
              "<style scoped>\n",
              "    .dataframe tbody tr th:only-of-type {\n",
              "        vertical-align: middle;\n",
              "    }\n",
              "\n",
              "    .dataframe tbody tr th {\n",
              "        vertical-align: top;\n",
              "    }\n",
              "\n",
              "    .dataframe thead th {\n",
              "        text-align: right;\n",
              "    }\n",
              "</style>\n",
              "<table border=\"1\" class=\"dataframe\">\n",
              "  <thead>\n",
              "    <tr style=\"text-align: right;\">\n",
              "      <th></th>\n",
              "      <th>company</th>\n",
              "      <th>year</th>\n",
              "      <th>num_patents</th>\n",
              "      <th>2010</th>\n",
              "      <th>2011</th>\n",
              "      <th>2012</th>\n",
              "      <th>2013</th>\n",
              "      <th>2014</th>\n",
              "      <th>2015</th>\n",
              "      <th>2016</th>\n",
              "      <th>2017</th>\n",
              "      <th>2018</th>\n",
              "      <th>2019</th>\n",
              "    </tr>\n",
              "  </thead>\n",
              "  <tbody>\n",
              "    <tr>\n",
              "      <th>0</th>\n",
              "      <td>UNITED TECHNOLOGIES CORP</td>\n",
              "      <td>2016</td>\n",
              "      <td>781</td>\n",
              "      <td>43621.15</td>\n",
              "      <td>47302.68</td>\n",
              "      <td>67812.26</td>\n",
              "      <td>65784.83</td>\n",
              "      <td>75349.84</td>\n",
              "      <td>80550.89</td>\n",
              "      <td>84978.49</td>\n",
              "      <td>80714.98</td>\n",
              "      <td>117219.89</td>\n",
              "      <td>124500.93</td>\n",
              "    </tr>\n",
              "    <tr>\n",
              "      <th>1</th>\n",
              "      <td>GEN ELECTRIC</td>\n",
              "      <td>2017</td>\n",
              "      <td>672</td>\n",
              "      <td>NaN</td>\n",
              "      <td>NaN</td>\n",
              "      <td>NaN</td>\n",
              "      <td>NaN</td>\n",
              "      <td>1043.43</td>\n",
              "      <td>1490.01</td>\n",
              "      <td>8676.31</td>\n",
              "      <td>8301.33</td>\n",
              "      <td>NaN</td>\n",
              "      <td>NaN</td>\n",
              "    </tr>\n",
              "    <tr>\n",
              "      <th>2</th>\n",
              "      <td>TOYOTA MOTOR CO LTD</td>\n",
              "      <td>2013</td>\n",
              "      <td>600</td>\n",
              "      <td>240141.39</td>\n",
              "      <td>253741.38</td>\n",
              "      <td>279005.24</td>\n",
              "      <td>293996.03</td>\n",
              "      <td>292115.08</td>\n",
              "      <td>370275.13</td>\n",
              "      <td>370628.36</td>\n",
              "      <td>408889.46</td>\n",
              "      <td>384494.17</td>\n",
              "      <td>417614.15</td>\n",
              "    </tr>\n",
              "    <tr>\n",
              "      <th>3</th>\n",
              "      <td>GEN ELECTRIC</td>\n",
              "      <td>2012</td>\n",
              "      <td>595</td>\n",
              "      <td>NaN</td>\n",
              "      <td>NaN</td>\n",
              "      <td>NaN</td>\n",
              "      <td>NaN</td>\n",
              "      <td>1043.43</td>\n",
              "      <td>1490.01</td>\n",
              "      <td>8676.31</td>\n",
              "      <td>8301.33</td>\n",
              "      <td>NaN</td>\n",
              "      <td>NaN</td>\n",
              "    </tr>\n",
              "    <tr>\n",
              "      <th>4</th>\n",
              "      <td>TOYOTA MOTOR CO LTD</td>\n",
              "      <td>2014</td>\n",
              "      <td>546</td>\n",
              "      <td>240141.39</td>\n",
              "      <td>253741.38</td>\n",
              "      <td>279005.24</td>\n",
              "      <td>293996.03</td>\n",
              "      <td>292115.08</td>\n",
              "      <td>370275.13</td>\n",
              "      <td>370628.36</td>\n",
              "      <td>408889.46</td>\n",
              "      <td>384494.17</td>\n",
              "      <td>417614.15</td>\n",
              "    </tr>\n",
              "  </tbody>\n",
              "</table>\n",
              "</div>"
            ],
            "text/plain": [
              "                    company  year  num_patents  ...       2017       2018       2019\n",
              "0  UNITED TECHNOLOGIES CORP  2016          781  ...   80714.98  117219.89  124500.93\n",
              "1              GEN ELECTRIC  2017          672  ...    8301.33        NaN        NaN\n",
              "2       TOYOTA MOTOR CO LTD  2013          600  ...  408889.46  384494.17  417614.15\n",
              "3              GEN ELECTRIC  2012          595  ...    8301.33        NaN        NaN\n",
              "4       TOYOTA MOTOR CO LTD  2014          546  ...  408889.46  384494.17  417614.15\n",
              "\n",
              "[5 rows x 13 columns]"
            ]
          },
          "metadata": {
            "tags": []
          },
          "execution_count": 10
        }
      ]
    },
    {
      "cell_type": "code",
      "metadata": {
        "id": "mv2jZN-SWEm8",
        "colab": {
          "base_uri": "https://localhost:8080/",
          "height": 204
        },
        "outputId": "0e9257bb-aaf1-4aca-b808-aa9a3f3da948"
      },
      "source": [
        "# Convert the dataset into a panel data structure\n",
        "asset_causality = asset_causality.melt(id_vars=['company', 'year', 'num_patents'], value_name='total_assets')\n",
        "asset_causality.head()"
      ],
      "execution_count": 11,
      "outputs": [
        {
          "output_type": "execute_result",
          "data": {
            "text/html": [
              "<div>\n",
              "<style scoped>\n",
              "    .dataframe tbody tr th:only-of-type {\n",
              "        vertical-align: middle;\n",
              "    }\n",
              "\n",
              "    .dataframe tbody tr th {\n",
              "        vertical-align: top;\n",
              "    }\n",
              "\n",
              "    .dataframe thead th {\n",
              "        text-align: right;\n",
              "    }\n",
              "</style>\n",
              "<table border=\"1\" class=\"dataframe\">\n",
              "  <thead>\n",
              "    <tr style=\"text-align: right;\">\n",
              "      <th></th>\n",
              "      <th>company</th>\n",
              "      <th>year</th>\n",
              "      <th>num_patents</th>\n",
              "      <th>variable</th>\n",
              "      <th>total_assets</th>\n",
              "    </tr>\n",
              "  </thead>\n",
              "  <tbody>\n",
              "    <tr>\n",
              "      <th>0</th>\n",
              "      <td>UNITED TECHNOLOGIES CORP</td>\n",
              "      <td>2016</td>\n",
              "      <td>781</td>\n",
              "      <td>2010</td>\n",
              "      <td>43621.15</td>\n",
              "    </tr>\n",
              "    <tr>\n",
              "      <th>1</th>\n",
              "      <td>GEN ELECTRIC</td>\n",
              "      <td>2017</td>\n",
              "      <td>672</td>\n",
              "      <td>2010</td>\n",
              "      <td>NaN</td>\n",
              "    </tr>\n",
              "    <tr>\n",
              "      <th>2</th>\n",
              "      <td>TOYOTA MOTOR CO LTD</td>\n",
              "      <td>2013</td>\n",
              "      <td>600</td>\n",
              "      <td>2010</td>\n",
              "      <td>240141.39</td>\n",
              "    </tr>\n",
              "    <tr>\n",
              "      <th>3</th>\n",
              "      <td>GEN ELECTRIC</td>\n",
              "      <td>2012</td>\n",
              "      <td>595</td>\n",
              "      <td>2010</td>\n",
              "      <td>NaN</td>\n",
              "    </tr>\n",
              "    <tr>\n",
              "      <th>4</th>\n",
              "      <td>TOYOTA MOTOR CO LTD</td>\n",
              "      <td>2014</td>\n",
              "      <td>546</td>\n",
              "      <td>2010</td>\n",
              "      <td>240141.39</td>\n",
              "    </tr>\n",
              "  </tbody>\n",
              "</table>\n",
              "</div>"
            ],
            "text/plain": [
              "                    company  year  num_patents variable  total_assets\n",
              "0  UNITED TECHNOLOGIES CORP  2016          781     2010      43621.15\n",
              "1              GEN ELECTRIC  2017          672     2010           NaN\n",
              "2       TOYOTA MOTOR CO LTD  2013          600     2010     240141.39\n",
              "3              GEN ELECTRIC  2012          595     2010           NaN\n",
              "4       TOYOTA MOTOR CO LTD  2014          546     2010     240141.39"
            ]
          },
          "metadata": {
            "tags": []
          },
          "execution_count": 11
        }
      ]
    },
    {
      "cell_type": "code",
      "metadata": {
        "id": "t44h87YdW_xe",
        "colab": {
          "base_uri": "https://localhost:8080/",
          "height": 204
        },
        "outputId": "6d545b08-069d-45ce-a44d-adc23db10f22"
      },
      "source": [
        "# Keep only the total assets based on the given year - e.g. delete patent of 2010 with total assets value for 2011, 2012, etc. and keep only for 2010\n",
        "asset_causality['variable'] = asset_causality['variable'].astype(int)\n",
        "asset_causality = asset_causality.loc[asset_causality['year'] == asset_causality['variable']].drop('variable',1)\n",
        "asset_causality = asset_causality.dropna().reset_index().drop('index',1)\n",
        "asset_causality.head()"
      ],
      "execution_count": 12,
      "outputs": [
        {
          "output_type": "execute_result",
          "data": {
            "text/html": [
              "<div>\n",
              "<style scoped>\n",
              "    .dataframe tbody tr th:only-of-type {\n",
              "        vertical-align: middle;\n",
              "    }\n",
              "\n",
              "    .dataframe tbody tr th {\n",
              "        vertical-align: top;\n",
              "    }\n",
              "\n",
              "    .dataframe thead th {\n",
              "        text-align: right;\n",
              "    }\n",
              "</style>\n",
              "<table border=\"1\" class=\"dataframe\">\n",
              "  <thead>\n",
              "    <tr style=\"text-align: right;\">\n",
              "      <th></th>\n",
              "      <th>company</th>\n",
              "      <th>year</th>\n",
              "      <th>num_patents</th>\n",
              "      <th>total_assets</th>\n",
              "    </tr>\n",
              "  </thead>\n",
              "  <tbody>\n",
              "    <tr>\n",
              "      <th>0</th>\n",
              "      <td>TOYOTA MOTOR CO LTD</td>\n",
              "      <td>2010</td>\n",
              "      <td>454</td>\n",
              "      <td>240141.39</td>\n",
              "    </tr>\n",
              "    <tr>\n",
              "      <th>1</th>\n",
              "      <td>SIEMENS AG</td>\n",
              "      <td>2010</td>\n",
              "      <td>251</td>\n",
              "      <td>102827.00</td>\n",
              "    </tr>\n",
              "    <tr>\n",
              "      <th>2</th>\n",
              "      <td>BOSCH GMBH ROBERT</td>\n",
              "      <td>2010</td>\n",
              "      <td>176</td>\n",
              "      <td>5579.71</td>\n",
              "    </tr>\n",
              "    <tr>\n",
              "      <th>3</th>\n",
              "      <td>PANASONIC CORP</td>\n",
              "      <td>2010</td>\n",
              "      <td>171</td>\n",
              "      <td>66133.86</td>\n",
              "    </tr>\n",
              "    <tr>\n",
              "      <th>4</th>\n",
              "      <td>HONDA MOTOR CO LTD</td>\n",
              "      <td>2010</td>\n",
              "      <td>143</td>\n",
              "      <td>92016.39</td>\n",
              "    </tr>\n",
              "  </tbody>\n",
              "</table>\n",
              "</div>"
            ],
            "text/plain": [
              "               company  year  num_patents  total_assets\n",
              "0  TOYOTA MOTOR CO LTD  2010          454     240141.39\n",
              "1           SIEMENS AG  2010          251     102827.00\n",
              "2    BOSCH GMBH ROBERT  2010          176       5579.71\n",
              "3       PANASONIC CORP  2010          171      66133.86\n",
              "4   HONDA MOTOR CO LTD  2010          143      92016.39"
            ]
          },
          "metadata": {
            "tags": []
          },
          "execution_count": 12
        }
      ]
    },
    {
      "cell_type": "code",
      "metadata": {
        "id": "cOitIb5SLIAi"
      },
      "source": [
        "# Select companies with at least 9 year of green patents\n",
        "asset_causality_min_9_50 = asset_causality[asset_causality.groupby('company')['company'].transform('size') > 8].reset_index().drop('index',1)"
      ],
      "execution_count": null,
      "outputs": []
    },
    {
      "cell_type": "code",
      "metadata": {
        "id": "9B1o391_L_6V"
      },
      "source": [
        "# Select companies with at least 10 year of green patents\n",
        "asset_causality_min_10_50 = asset_causality[asset_causality.groupby('company')['company'].transform('size') > 9].reset_index().drop('index',1)"
      ],
      "execution_count": null,
      "outputs": []
    },
    {
      "cell_type": "markdown",
      "metadata": {
        "id": "e98p_0MbFj_d"
      },
      "source": [
        "We created 4 datasets based on total assets and total revenues for the analysis: \n",
        "1.   Minimum 9 years of patent activity and minimum 1 patent publication \n",
        "2.   Minimum 9 years of patent activity and minimum 50 patent publications \n",
        "3.   Minimum 10 years of patent activity and minimum 1 patent publication \n",
        "4.   Minimum 10 years of patent activity and minimum 50 patent publications \n",
        "\n",
        "In this section we only give one example of each 9 year and 10 year patent activities. By selecting the dataframe \"df\" based on the number of patent publications, as shown in \"Label Preparation\" section, you could gather all 4 files for the causality analysis. Same applies to the revenue datasets for the causal analysis below."
      ]
    },
    {
      "cell_type": "code",
      "metadata": {
        "id": "Y7vfmmutL3xA"
      },
      "source": [
        "# Save the data for Panel Granger Causality Analysis on R\n",
        "asset_causality_min_9_50.to_csv('asset_causality_min_9_50.csv', index=False)\n",
        "asset_causality_min_10_50.to_csv('asset_causality_min_10_50.csv', index=False)"
      ],
      "execution_count": null,
      "outputs": []
    },
    {
      "cell_type": "markdown",
      "metadata": {
        "id": "J5MGdnOvdi-Q"
      },
      "source": [
        "#### Revenue Causality"
      ]
    },
    {
      "cell_type": "code",
      "metadata": {
        "colab": {
          "base_uri": "https://localhost:8080/",
          "height": 204
        },
        "id": "vmh0X1NsdSak",
        "outputId": "2eb9ff6a-7c52-4f9d-9a38-c4edc5a1549a"
      },
      "source": [
        "# Select only revenue columns\n",
        "rev_causality = patent_causality[['company', 'year', 'num_patents','total_rev_2010', 'total_rev_2011', 'total_rev_2012','total_rev_2013' ,'total_rev_2014' ,'total_rev_2015' ,'total_rev_2016',\n",
        "              'total_rev_2017', 'total_rev_2018', 'total_rev_2019']]\n",
        "rev_causality.columns = rev_causality.columns.str.replace('total_rev_','')              \n",
        "rev_causality.head()              "
      ],
      "execution_count": 13,
      "outputs": [
        {
          "output_type": "execute_result",
          "data": {
            "text/html": [
              "<div>\n",
              "<style scoped>\n",
              "    .dataframe tbody tr th:only-of-type {\n",
              "        vertical-align: middle;\n",
              "    }\n",
              "\n",
              "    .dataframe tbody tr th {\n",
              "        vertical-align: top;\n",
              "    }\n",
              "\n",
              "    .dataframe thead th {\n",
              "        text-align: right;\n",
              "    }\n",
              "</style>\n",
              "<table border=\"1\" class=\"dataframe\">\n",
              "  <thead>\n",
              "    <tr style=\"text-align: right;\">\n",
              "      <th></th>\n",
              "      <th>company</th>\n",
              "      <th>year</th>\n",
              "      <th>num_patents</th>\n",
              "      <th>2010</th>\n",
              "      <th>2011</th>\n",
              "      <th>2012</th>\n",
              "      <th>2013</th>\n",
              "      <th>2014</th>\n",
              "      <th>2015</th>\n",
              "      <th>2016</th>\n",
              "      <th>2017</th>\n",
              "      <th>2018</th>\n",
              "      <th>2019</th>\n",
              "    </tr>\n",
              "  </thead>\n",
              "  <tbody>\n",
              "    <tr>\n",
              "      <th>0</th>\n",
              "      <td>UNITED TECHNOLOGIES CORP</td>\n",
              "      <td>2016</td>\n",
              "      <td>781</td>\n",
              "      <td>38984.08</td>\n",
              "      <td>42916.64</td>\n",
              "      <td>43768.63</td>\n",
              "      <td>41100.09</td>\n",
              "      <td>47834.09</td>\n",
              "      <td>51652.23</td>\n",
              "      <td>54227.24</td>\n",
              "      <td>49832.25</td>\n",
              "      <td>58081.97</td>\n",
              "      <td>68655.69</td>\n",
              "    </tr>\n",
              "    <tr>\n",
              "      <th>1</th>\n",
              "      <td>GEN ELECTRIC</td>\n",
              "      <td>2017</td>\n",
              "      <td>672</td>\n",
              "      <td>NaN</td>\n",
              "      <td>NaN</td>\n",
              "      <td>NaN</td>\n",
              "      <td>NaN</td>\n",
              "      <td>628.29</td>\n",
              "      <td>851.76</td>\n",
              "      <td>876.98</td>\n",
              "      <td>804.92</td>\n",
              "      <td>NaN</td>\n",
              "      <td>NaN</td>\n",
              "    </tr>\n",
              "    <tr>\n",
              "      <th>2</th>\n",
              "      <td>TOYOTA MOTOR CO LTD</td>\n",
              "      <td>2013</td>\n",
              "      <td>600</td>\n",
              "      <td>149951.23</td>\n",
              "      <td>161629.14</td>\n",
              "      <td>169160.63</td>\n",
              "      <td>182812.25</td>\n",
              "      <td>181116.13</td>\n",
              "      <td>211278.06</td>\n",
              "      <td>221959.40</td>\n",
              "      <td>231469.91</td>\n",
              "      <td>224540.72</td>\n",
              "      <td>243038.38</td>\n",
              "    </tr>\n",
              "    <tr>\n",
              "      <th>3</th>\n",
              "      <td>GEN ELECTRIC</td>\n",
              "      <td>2012</td>\n",
              "      <td>595</td>\n",
              "      <td>NaN</td>\n",
              "      <td>NaN</td>\n",
              "      <td>NaN</td>\n",
              "      <td>NaN</td>\n",
              "      <td>628.29</td>\n",
              "      <td>851.76</td>\n",
              "      <td>876.98</td>\n",
              "      <td>804.92</td>\n",
              "      <td>NaN</td>\n",
              "      <td>NaN</td>\n",
              "    </tr>\n",
              "    <tr>\n",
              "      <th>4</th>\n",
              "      <td>TOYOTA MOTOR CO LTD</td>\n",
              "      <td>2014</td>\n",
              "      <td>546</td>\n",
              "      <td>149951.23</td>\n",
              "      <td>161629.14</td>\n",
              "      <td>169160.63</td>\n",
              "      <td>182812.25</td>\n",
              "      <td>181116.13</td>\n",
              "      <td>211278.06</td>\n",
              "      <td>221959.40</td>\n",
              "      <td>231469.91</td>\n",
              "      <td>224540.72</td>\n",
              "      <td>243038.38</td>\n",
              "    </tr>\n",
              "  </tbody>\n",
              "</table>\n",
              "</div>"
            ],
            "text/plain": [
              "                    company  year  num_patents  ...       2017       2018       2019\n",
              "0  UNITED TECHNOLOGIES CORP  2016          781  ...   49832.25   58081.97   68655.69\n",
              "1              GEN ELECTRIC  2017          672  ...     804.92        NaN        NaN\n",
              "2       TOYOTA MOTOR CO LTD  2013          600  ...  231469.91  224540.72  243038.38\n",
              "3              GEN ELECTRIC  2012          595  ...     804.92        NaN        NaN\n",
              "4       TOYOTA MOTOR CO LTD  2014          546  ...  231469.91  224540.72  243038.38\n",
              "\n",
              "[5 rows x 13 columns]"
            ]
          },
          "metadata": {
            "tags": []
          },
          "execution_count": 13
        }
      ]
    },
    {
      "cell_type": "code",
      "metadata": {
        "id": "AXD6M5bKdoSh",
        "colab": {
          "base_uri": "https://localhost:8080/",
          "height": 204
        },
        "outputId": "785d474d-34e6-4a03-cda0-193b71587f38"
      },
      "source": [
        "# Convert the dataset into a panel data structure\n",
        "rev_causality = rev_causality.melt(id_vars=['company', 'year', 'num_patents'], value_name='total_rev')\n",
        "rev_causality.head()"
      ],
      "execution_count": 14,
      "outputs": [
        {
          "output_type": "execute_result",
          "data": {
            "text/html": [
              "<div>\n",
              "<style scoped>\n",
              "    .dataframe tbody tr th:only-of-type {\n",
              "        vertical-align: middle;\n",
              "    }\n",
              "\n",
              "    .dataframe tbody tr th {\n",
              "        vertical-align: top;\n",
              "    }\n",
              "\n",
              "    .dataframe thead th {\n",
              "        text-align: right;\n",
              "    }\n",
              "</style>\n",
              "<table border=\"1\" class=\"dataframe\">\n",
              "  <thead>\n",
              "    <tr style=\"text-align: right;\">\n",
              "      <th></th>\n",
              "      <th>company</th>\n",
              "      <th>year</th>\n",
              "      <th>num_patents</th>\n",
              "      <th>variable</th>\n",
              "      <th>total_rev</th>\n",
              "    </tr>\n",
              "  </thead>\n",
              "  <tbody>\n",
              "    <tr>\n",
              "      <th>0</th>\n",
              "      <td>UNITED TECHNOLOGIES CORP</td>\n",
              "      <td>2016</td>\n",
              "      <td>781</td>\n",
              "      <td>2010</td>\n",
              "      <td>38984.08</td>\n",
              "    </tr>\n",
              "    <tr>\n",
              "      <th>1</th>\n",
              "      <td>GEN ELECTRIC</td>\n",
              "      <td>2017</td>\n",
              "      <td>672</td>\n",
              "      <td>2010</td>\n",
              "      <td>NaN</td>\n",
              "    </tr>\n",
              "    <tr>\n",
              "      <th>2</th>\n",
              "      <td>TOYOTA MOTOR CO LTD</td>\n",
              "      <td>2013</td>\n",
              "      <td>600</td>\n",
              "      <td>2010</td>\n",
              "      <td>149951.23</td>\n",
              "    </tr>\n",
              "    <tr>\n",
              "      <th>3</th>\n",
              "      <td>GEN ELECTRIC</td>\n",
              "      <td>2012</td>\n",
              "      <td>595</td>\n",
              "      <td>2010</td>\n",
              "      <td>NaN</td>\n",
              "    </tr>\n",
              "    <tr>\n",
              "      <th>4</th>\n",
              "      <td>TOYOTA MOTOR CO LTD</td>\n",
              "      <td>2014</td>\n",
              "      <td>546</td>\n",
              "      <td>2010</td>\n",
              "      <td>149951.23</td>\n",
              "    </tr>\n",
              "  </tbody>\n",
              "</table>\n",
              "</div>"
            ],
            "text/plain": [
              "                    company  year  num_patents variable  total_rev\n",
              "0  UNITED TECHNOLOGIES CORP  2016          781     2010   38984.08\n",
              "1              GEN ELECTRIC  2017          672     2010        NaN\n",
              "2       TOYOTA MOTOR CO LTD  2013          600     2010  149951.23\n",
              "3              GEN ELECTRIC  2012          595     2010        NaN\n",
              "4       TOYOTA MOTOR CO LTD  2014          546     2010  149951.23"
            ]
          },
          "metadata": {
            "tags": []
          },
          "execution_count": 14
        }
      ]
    },
    {
      "cell_type": "code",
      "metadata": {
        "colab": {
          "base_uri": "https://localhost:8080/",
          "height": 204
        },
        "id": "bya4P2UZdtrU",
        "outputId": "60c850f8-26f1-4119-c006-05d403ff1af0"
      },
      "source": [
        "# Keep only the total revenues based on the given year - e.g. delete patent of 2010 with total revenue value for 2011, 2012, etc. and keep only for 2010\n",
        "rev_causality['variable'] = rev_causality['variable'].astype(int)\n",
        "rev_causality = rev_causality.loc[rev_causality['year'] == rev_causality['variable']].drop('variable',1)\n",
        "rev_causality = rev_causality.dropna().reset_index().drop('index',1)\n",
        "rev_causality.head()"
      ],
      "execution_count": 15,
      "outputs": [
        {
          "output_type": "execute_result",
          "data": {
            "text/html": [
              "<div>\n",
              "<style scoped>\n",
              "    .dataframe tbody tr th:only-of-type {\n",
              "        vertical-align: middle;\n",
              "    }\n",
              "\n",
              "    .dataframe tbody tr th {\n",
              "        vertical-align: top;\n",
              "    }\n",
              "\n",
              "    .dataframe thead th {\n",
              "        text-align: right;\n",
              "    }\n",
              "</style>\n",
              "<table border=\"1\" class=\"dataframe\">\n",
              "  <thead>\n",
              "    <tr style=\"text-align: right;\">\n",
              "      <th></th>\n",
              "      <th>company</th>\n",
              "      <th>year</th>\n",
              "      <th>num_patents</th>\n",
              "      <th>total_rev</th>\n",
              "    </tr>\n",
              "  </thead>\n",
              "  <tbody>\n",
              "    <tr>\n",
              "      <th>0</th>\n",
              "      <td>TOYOTA MOTOR CO LTD</td>\n",
              "      <td>2010</td>\n",
              "      <td>454</td>\n",
              "      <td>149951.23</td>\n",
              "    </tr>\n",
              "    <tr>\n",
              "      <th>1</th>\n",
              "      <td>SIEMENS AG</td>\n",
              "      <td>2010</td>\n",
              "      <td>251</td>\n",
              "      <td>68828.00</td>\n",
              "    </tr>\n",
              "    <tr>\n",
              "      <th>2</th>\n",
              "      <td>BOSCH GMBH ROBERT</td>\n",
              "      <td>2010</td>\n",
              "      <td>176</td>\n",
              "      <td>173.10</td>\n",
              "    </tr>\n",
              "    <tr>\n",
              "      <th>3</th>\n",
              "      <td>PANASONIC CORP</td>\n",
              "      <td>2010</td>\n",
              "      <td>171</td>\n",
              "      <td>58695.42</td>\n",
              "    </tr>\n",
              "    <tr>\n",
              "      <th>4</th>\n",
              "      <td>HONDA MOTOR CO LTD</td>\n",
              "      <td>2010</td>\n",
              "      <td>143</td>\n",
              "      <td>67883.46</td>\n",
              "    </tr>\n",
              "  </tbody>\n",
              "</table>\n",
              "</div>"
            ],
            "text/plain": [
              "               company  year  num_patents  total_rev\n",
              "0  TOYOTA MOTOR CO LTD  2010          454  149951.23\n",
              "1           SIEMENS AG  2010          251   68828.00\n",
              "2    BOSCH GMBH ROBERT  2010          176     173.10\n",
              "3       PANASONIC CORP  2010          171   58695.42\n",
              "4   HONDA MOTOR CO LTD  2010          143   67883.46"
            ]
          },
          "metadata": {
            "tags": []
          },
          "execution_count": 15
        }
      ]
    },
    {
      "cell_type": "code",
      "metadata": {
        "id": "2L7-ba2TL-BS"
      },
      "source": [
        "# Select companies with at least 9 year of green patents\n",
        "rev_causality_min_10_50 = rev_causality[rev_causality.groupby('company')['company'].transform('size') > 8].reset_index().drop('index',1)"
      ],
      "execution_count": null,
      "outputs": []
    },
    {
      "cell_type": "code",
      "metadata": {
        "id": "7hlPllj7Ne7q"
      },
      "source": [
        "# Select companies with at least 10 year of green patents\n",
        "rev_causality_min_10_50 = rev_causality[rev_causality.groupby('company')['company'].transform('size') > 9].reset_index().drop('index',1)"
      ],
      "execution_count": null,
      "outputs": []
    },
    {
      "cell_type": "code",
      "metadata": {
        "id": "zDOlYYTceMwP"
      },
      "source": [
        "# Save the data for Panel Granger Causality Analysis on R\n",
        "rev_causality_min_9_50.to_csv('rev_causality_min_9_50.csv', index=False)\n",
        "rev_causality_min_10_50.to_csv('rev_causality_min_10_50.csv', index=False)"
      ],
      "execution_count": null,
      "outputs": []
    }
  ]
}