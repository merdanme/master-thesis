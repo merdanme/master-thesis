{
  "nbformat": 4,
  "nbformat_minor": 0,
  "metadata": {
    "colab": {
      "name": "01 Data Collection (submission)",
      "provenance": [],
      "collapsed_sections": [
        "xc45jQBpIxLy",
        "fXrZPV9kAB7m",
        "PbupqMOCZAUg",
        "Q56f1wGafcQ8",
        "glsWJaQw88Lx"
      ],
      "machine_shape": "hm"
    },
    "kernelspec": {
      "name": "python3",
      "display_name": "Python 3"
    },
    "accelerator": "TPU"
  },
  "cells": [
    {
      "cell_type": "markdown",
      "metadata": {
        "id": "ww0a5yUsbfBo"
      },
      "source": [
        "In this notebook, we firstly query the patent data from Google Patents Public Data using BigQuery. Afterward, we gather the list of patent assignees from the patent dataset, search for their financial data on S&P Capital IQ Compustat Database, and match the financial data with the patent data set. Lastly, we label the dataset to make it ready for the financial prediction with patent text task. \n",
        "\n",
        "The complete labeled dataset that is used for the analysis is stored in \"data.zip\" file. Downloading the zip data file, one can skip this data collection and labeling section and directly start with the analysis."
      ]
    },
    {
      "cell_type": "markdown",
      "metadata": {
        "id": "xc45jQBpIxLy"
      },
      "source": [
        "### Libraries"
      ]
    },
    {
      "cell_type": "code",
      "metadata": {
        "id": "zUFGM6FTOrMI"
      },
      "source": [
        "# Download necessary libraries \n",
        "import pandas as pd\n",
        "import numpy as np\n",
        "\n",
        "import os, pickle\n",
        "from pathlib import Path\n",
        "\n",
        "from google.colab import drive\n",
        "from google.cloud import bigquery"
      ],
      "execution_count": null,
      "outputs": []
    },
    {
      "cell_type": "code",
      "metadata": {
        "colab": {
          "base_uri": "https://localhost:8080/"
        },
        "id": "_jed2JYGrfr2",
        "outputId": "7bc0b9a2-5c26-413e-c6eb-f399a6f8af05"
      },
      "source": [
        "# Mount Drive account on Colab\n",
        "drive.mount('/content/drive')"
      ],
      "execution_count": null,
      "outputs": [
        {
          "output_type": "stream",
          "text": [
            "Mounted at /content/drive\n"
          ],
          "name": "stdout"
        }
      ]
    },
    {
      "cell_type": "code",
      "metadata": {
        "id": "8Sjf0nVkrhGA"
      },
      "source": [
        "from pydrive.auth import GoogleAuth\n",
        "from pydrive.drive import GoogleDrive\n",
        "from google.colab import auth\n",
        "from oauth2client.client import GoogleCredentials\n",
        "\n",
        "auth.authenticate_user()\n",
        "gauth = GoogleAuth()\n",
        "gauth.credentials = GoogleCredentials.get_application_default()\n",
        "drive = GoogleDrive(gauth)"
      ],
      "execution_count": null,
      "outputs": []
    },
    {
      "cell_type": "code",
      "metadata": {
        "id": "bKqnZjYxrtH6"
      },
      "source": [
        "# Set BigQuery application credentials\n",
        "os.environ[\"GOOGLE_APPLICATION_CREDENTIALS\"] = \"path/to/credentials.json\"\n",
        "\n",
        "project_id = \"your_bq_project_id\"\n",
        "bq_client = bigquery.Client(project=project_id)"
      ],
      "execution_count": null,
      "outputs": []
    },
    {
      "cell_type": "markdown",
      "metadata": {
        "id": "fXrZPV9kAB7m"
      },
      "source": [
        "### Dataset Query"
      ]
    },
    {
      "cell_type": "code",
      "metadata": {
        "id": "7L6Qkp2wrwBz"
      },
      "source": [
        "# Querying the patent data in two batches (2010-2013 and 2014-2019) due to its large size\n",
        "\n",
        "query_1 = r'''\n",
        "  #standardSQL\n",
        "  SELECT \n",
        "    p.publication_number as publication_number, p.application_number as application_number, publication_date, p.filing_date as filing_date, \n",
        "    grant_date, priority_date, cpc.code, ipc.code as ipc_code, title_localized.text as title, \n",
        "    abstract_localized.text as abstract, assignee_harmonized.name as assignee_harmonized, assignee_harmonized.country_code as assignee_country, \n",
        "    inventor_harmonized.name as inventor_harmonized, inventor_harmonized.country_code as inventor_country\n",
        "  FROM `patents-public-data.patents.publications` as p,\n",
        "    UNNEST(cpc) as cpc,\n",
        "    UNNEST(title_localized) as title_localized,\n",
        "    UNNEST(abstract_localized) as abstract_localized,\n",
        "    UNNEST(assignee_harmonized) as assignee_harmonized,\n",
        "    UNNEST(inventor_harmonized) as inventor_harmonized,\n",
        "    UNNEST(ipc) as ipc\n",
        "  WHERE publication_date >= 20100101 AND publication_date < 20140101\n",
        "    AND p.country_code = 'EP'\n",
        "    AND cpc.code LIKE 'Y02%'\n",
        "    AND title_localized.language = 'en'\n",
        "    AND abstract_localized.language = 'en'\n",
        "'''"
      ],
      "execution_count": null,
      "outputs": []
    },
    {
      "cell_type": "code",
      "metadata": {
        "id": "WdVzzIWUCFa2"
      },
      "source": [
        "query_2 = r'''\n",
        "  #standardSQL\n",
        "  SELECT \n",
        "    p.publication_number as publication_number, p.application_number as application_number, publication_date, p.filing_date as filing_date, \n",
        "    grant_date, priority_date, cpc.code, ipc.code as ipc_code, title_localized.text as title, \n",
        "    abstract_localized.text as abstract, assignee_harmonized.name as assignee_harmonized, assignee_harmonized.country_code as assignee_country, \n",
        "    inventor_harmonized.name as inventor_harmonized, inventor_harmonized.country_code as inventor_country\n",
        "  FROM `patents-public-data.patents.publications` as p,\n",
        "    UNNEST(cpc) as cpc,\n",
        "    UNNEST(title_localized) as title_localized,\n",
        "    UNNEST(abstract_localized) as abstract_localized,\n",
        "    UNNEST(assignee_harmonized) as assignee_harmonized,\n",
        "    UNNEST(inventor_harmonized) as inventor_harmonized,\n",
        "    UNNEST(ipc) as ipc\n",
        "  WHERE publication_date >= 20140101 AND publication_date < 20200101\n",
        "    AND p.country_code = 'EP'\n",
        "    AND cpc.code LIKE 'Y02%'\n",
        "    AND title_localized.language = 'en'\n",
        "    AND abstract_localized.language = 'en'\n",
        "'''"
      ],
      "execution_count": null,
      "outputs": []
    },
    {
      "cell_type": "code",
      "metadata": {
        "id": "KKbNcLll2l-L"
      },
      "source": [
        "df_1 = bq_client.query(query_1).to_dataframe()\n",
        "df_2 = bq_client.query(query_2).to_dataframe()"
      ],
      "execution_count": null,
      "outputs": []
    },
    {
      "cell_type": "code",
      "metadata": {
        "id": "1knxgMlJr51u"
      },
      "source": [
        "df = pd.concat([df_1, df_2], ignore_index=True)"
      ],
      "execution_count": null,
      "outputs": []
    },
    {
      "cell_type": "code",
      "metadata": {
        "id": "YYi5nLHW55Ii"
      },
      "source": [
        "df.to_csv('patent_data.csv', index=False)"
      ],
      "execution_count": null,
      "outputs": []
    },
    {
      "cell_type": "code",
      "metadata": {
        "id": "GxnGCRfW5-Xs"
      },
      "source": [
        "!cp patent_data.csv \"drive/My Drive/\""
      ],
      "execution_count": null,
      "outputs": []
    },
    {
      "cell_type": "markdown",
      "metadata": {
        "id": "PbupqMOCZAUg"
      },
      "source": [
        "### Assignee list"
      ]
    },
    {
      "cell_type": "markdown",
      "metadata": {
        "id": "df5dTADdEkva"
      },
      "source": [
        "The assignee list from the patents between 2010-2019 is gathered to have the full list of the companies. The assignee names will be matched with company S&P Capital IQ identifiers using SPCIQ Identifier Converter embedded in Capital IQ’s Excel Plugin tools. Then, the company financial data will be obtained from the Compustat Database using these identifiers. "
      ]
    },
    {
      "cell_type": "code",
      "metadata": {
        "id": "Doa2s2A3ZCx8"
      },
      "source": [
        "df = pd.read_csv('/content/drive/My Drive/patent_data.csv')"
      ],
      "execution_count": null,
      "outputs": []
    },
    {
      "cell_type": "code",
      "metadata": {
        "id": "LH74f0vIZX1u"
      },
      "source": [
        "assignee = df[['assignee_harmonized']]"
      ],
      "execution_count": null,
      "outputs": []
    },
    {
      "cell_type": "code",
      "metadata": {
        "id": "ltRQqYp7ZsCn"
      },
      "source": [
        "assignee['assignee_harmonized'] = assignee['assignee_harmonized'].astype(str).str.strip()"
      ],
      "execution_count": null,
      "outputs": []
    },
    {
      "cell_type": "code",
      "metadata": {
        "id": "lyZRfvvgacUx"
      },
      "source": [
        "assignee = assignee.drop_duplicates(subset=['assignee_harmonized'], keep='first', ignore_index=True)"
      ],
      "execution_count": null,
      "outputs": []
    },
    {
      "cell_type": "code",
      "metadata": {
        "id": "QVPXEDixapjy"
      },
      "source": [
        "assignee.to_excel('assignee.xlsx', index=False)"
      ],
      "execution_count": null,
      "outputs": []
    },
    {
      "cell_type": "markdown",
      "metadata": {
        "id": "Q56f1wGafcQ8"
      },
      "source": [
        "### Matching patents with the financials"
      ]
    },
    {
      "cell_type": "markdown",
      "metadata": {
        "id": "qTkV6tbcGuZM"
      },
      "source": [
        "Companies' financial data is obtained from the Compustat Database and saved in assignee_fin.csv. Now, we will merge the dataset of financials and patent dataset based on the company names."
      ]
    },
    {
      "cell_type": "code",
      "metadata": {
        "id": "PBJOjwU9fgCZ"
      },
      "source": [
        "fin = pd.read_csv('/content/drive/My Drive/assignee_fin.csv')\n",
        "df = pd.read_csv('/content/drive/My Drive/patent_data.csv')"
      ],
      "execution_count": null,
      "outputs": []
    },
    {
      "cell_type": "code",
      "metadata": {
        "id": "WJreLST0rxEc"
      },
      "source": [
        "df = df.astype(str)"
      ],
      "execution_count": null,
      "outputs": []
    },
    {
      "cell_type": "code",
      "metadata": {
        "id": "1lChfocqqYeH"
      },
      "source": [
        "cols=['application_number','publication_date', 'filing_date', 'grant_date', 'priority_date', 'code', 'ipc_code', 'title', 'abstract', 'assignee_harmonized', 'assignee_country', 'inventor_harmonized', 'inventor_country']"
      ],
      "execution_count": null,
      "outputs": []
    },
    {
      "cell_type": "code",
      "metadata": {
        "id": "FQYHDGETqsAl"
      },
      "source": [
        "# Grouping by publication number and assignees: getting unique values into a list - all columns need to be string\n",
        "\n",
        "df = df.groupby(['publication_number', 'assignee_harmonized'],as_index=False)[cols].agg(lambda x: ', '.join(set(x))).reindex(columns=df.columns)\n"
      ],
      "execution_count": null,
      "outputs": []
    },
    {
      "cell_type": "code",
      "metadata": {
        "id": "rEPQ_clC4sw4"
      },
      "source": [
        "fin.dropna(subset = ['identifier'], inplace=True)\n",
        "fin.reset_index(drop=True)"
      ],
      "execution_count": null,
      "outputs": []
    },
    {
      "cell_type": "code",
      "metadata": {
        "id": "n-hZkzXe5FKM"
      },
      "source": [
        "str_cols = list(fin.iloc[:,-80:84])    \n",
        "fin[str_cols] = fin[str_cols].replace('NM', np.nan, regex=True)\n",
        "fin[str_cols] = fin[str_cols].replace(',', '.', regex=True)"
      ],
      "execution_count": null,
      "outputs": []
    },
    {
      "cell_type": "code",
      "metadata": {
        "id": "zw0P9wYR6r0V"
      },
      "source": [
        "fin = fin.rename({'assignee_harmonized': 'company'}, axis=1) "
      ],
      "execution_count": null,
      "outputs": []
    },
    {
      "cell_type": "code",
      "metadata": {
        "colab": {
          "base_uri": "https://localhost:8080/",
          "height": 309
        },
        "id": "9y5q95ck6jbG",
        "outputId": "2e135908-0436-49f1-953f-225480c3d22c"
      },
      "source": [
        "fin.head()"
      ],
      "execution_count": null,
      "outputs": [
        {
          "output_type": "execute_result",
          "data": {
            "text/html": [
              "<div>\n",
              "<style scoped>\n",
              "    .dataframe tbody tr th:only-of-type {\n",
              "        vertical-align: middle;\n",
              "    }\n",
              "\n",
              "    .dataframe tbody tr th {\n",
              "        vertical-align: top;\n",
              "    }\n",
              "\n",
              "    .dataframe thead th {\n",
              "        text-align: right;\n",
              "    }\n",
              "</style>\n",
              "<table border=\"1\" class=\"dataframe\">\n",
              "  <thead>\n",
              "    <tr style=\"text-align: right;\">\n",
              "      <th></th>\n",
              "      <th>assignee_fin</th>\n",
              "      <th>company</th>\n",
              "      <th>result_name</th>\n",
              "      <th>identifier</th>\n",
              "      <th>total_rev_2010</th>\n",
              "      <th>total_rev_2011</th>\n",
              "      <th>total_rev_2012</th>\n",
              "      <th>total_rev_2013</th>\n",
              "      <th>total_rev_2014</th>\n",
              "      <th>total_rev_2015</th>\n",
              "      <th>total_rev_2016</th>\n",
              "      <th>total_rev_2017</th>\n",
              "      <th>total_rev_2018</th>\n",
              "      <th>total_rev_2019</th>\n",
              "      <th>gross_profit_2010</th>\n",
              "      <th>gross_profit_2011</th>\n",
              "      <th>gross_profit_2012</th>\n",
              "      <th>gross_profit_2013</th>\n",
              "      <th>gross_profit_2014</th>\n",
              "      <th>gross_profit_2015</th>\n",
              "      <th>gross_profit_2016</th>\n",
              "      <th>gross_profit_2017</th>\n",
              "      <th>gross_profit_2018</th>\n",
              "      <th>gross_profit_2019</th>\n",
              "      <th>total_assets_2010</th>\n",
              "      <th>total_assets_2011</th>\n",
              "      <th>total_assets_2012</th>\n",
              "      <th>total_assets_2013</th>\n",
              "      <th>total_assets_2014</th>\n",
              "      <th>total_assets_2015</th>\n",
              "      <th>total_assets_2016</th>\n",
              "      <th>total_assets_2017</th>\n",
              "      <th>total_assets_2018</th>\n",
              "      <th>total_assets_2019</th>\n",
              "      <th>ebitda_2010</th>\n",
              "      <th>ebitda_2011</th>\n",
              "      <th>ebitda_2012</th>\n",
              "      <th>ebitda_2013</th>\n",
              "      <th>ebitda_2014</th>\n",
              "      <th>ebitda_2015</th>\n",
              "      <th>ebitda_2016</th>\n",
              "      <th>ebitda_2017</th>\n",
              "      <th>ebitda_2018</th>\n",
              "      <th>ebitda_2019</th>\n",
              "      <th>total_assets_growth_2010</th>\n",
              "      <th>total_assets_growth_2011</th>\n",
              "      <th>total_assets_growth_2012</th>\n",
              "      <th>total_assets_growth_2013</th>\n",
              "      <th>total_assets_growth_2014</th>\n",
              "      <th>total_assets_growth_2015</th>\n",
              "      <th>total_assets_growth_2016</th>\n",
              "      <th>total_assets_growth_2017</th>\n",
              "      <th>total_assets_growth_2018</th>\n",
              "      <th>total_assets_growth_2019</th>\n",
              "      <th>ebitda_growth_2010</th>\n",
              "      <th>ebitda_growth_2011</th>\n",
              "      <th>ebitda_growth_2012</th>\n",
              "      <th>ebitda_growth_2013</th>\n",
              "      <th>ebitda_growth_2014</th>\n",
              "      <th>ebitda_growth_2015</th>\n",
              "      <th>ebitda_growth_2016</th>\n",
              "      <th>ebitda_growth_2017</th>\n",
              "      <th>ebitda_growth_2018</th>\n",
              "      <th>ebitda_growth_2019</th>\n",
              "      <th>roa_2010</th>\n",
              "      <th>roa_2011</th>\n",
              "      <th>roa_2012</th>\n",
              "      <th>roa_2013</th>\n",
              "      <th>roa_2014</th>\n",
              "      <th>roa_2015</th>\n",
              "      <th>roa_2016</th>\n",
              "      <th>roa_2017</th>\n",
              "      <th>roa_2018</th>\n",
              "      <th>roa_2019</th>\n",
              "      <th>roe_2010</th>\n",
              "      <th>roe_2011</th>\n",
              "      <th>roe_2012</th>\n",
              "      <th>roe_2013</th>\n",
              "      <th>roe_2014</th>\n",
              "      <th>roe_2015</th>\n",
              "      <th>roe_2016</th>\n",
              "      <th>roe_2017</th>\n",
              "      <th>roe_2018</th>\n",
              "      <th>roe_2019</th>\n",
              "    </tr>\n",
              "  </thead>\n",
              "  <tbody>\n",
              "    <tr>\n",
              "      <th>0</th>\n",
              "      <td>Target Discovery, Inc.</td>\n",
              "      <td>TARGET DISCOVERY INC</td>\n",
              "      <td>Target Discovery, Inc.</td>\n",
              "      <td>IQ1669583</td>\n",
              "      <td>NaN</td>\n",
              "      <td>NaN</td>\n",
              "      <td>NaN</td>\n",
              "      <td>NaN</td>\n",
              "      <td>NaN</td>\n",
              "      <td>NaN</td>\n",
              "      <td>NaN</td>\n",
              "      <td>NaN</td>\n",
              "      <td>NaN</td>\n",
              "      <td>NaN</td>\n",
              "      <td>NaN</td>\n",
              "      <td>NaN</td>\n",
              "      <td>NaN</td>\n",
              "      <td>NaN</td>\n",
              "      <td>NaN</td>\n",
              "      <td>NaN</td>\n",
              "      <td>NaN</td>\n",
              "      <td>NaN</td>\n",
              "      <td>NaN</td>\n",
              "      <td>NaN</td>\n",
              "      <td>NaN</td>\n",
              "      <td>NaN</td>\n",
              "      <td>NaN</td>\n",
              "      <td>NaN</td>\n",
              "      <td>NaN</td>\n",
              "      <td>NaN</td>\n",
              "      <td>NaN</td>\n",
              "      <td>NaN</td>\n",
              "      <td>NaN</td>\n",
              "      <td>NaN</td>\n",
              "      <td>NaN</td>\n",
              "      <td>NaN</td>\n",
              "      <td>NaN</td>\n",
              "      <td>NaN</td>\n",
              "      <td>NaN</td>\n",
              "      <td>NaN</td>\n",
              "      <td>NaN</td>\n",
              "      <td>NaN</td>\n",
              "      <td>NaN</td>\n",
              "      <td>NaN</td>\n",
              "      <td>NaN</td>\n",
              "      <td>NaN</td>\n",
              "      <td>NaN</td>\n",
              "      <td>NaN</td>\n",
              "      <td>NaN</td>\n",
              "      <td>NaN</td>\n",
              "      <td>NaN</td>\n",
              "      <td>NaN</td>\n",
              "      <td>NaN</td>\n",
              "      <td>NaN</td>\n",
              "      <td>NaN</td>\n",
              "      <td>NaN</td>\n",
              "      <td>NaN</td>\n",
              "      <td>NaN</td>\n",
              "      <td>NaN</td>\n",
              "      <td>NaN</td>\n",
              "      <td>NaN</td>\n",
              "      <td>NaN</td>\n",
              "      <td>NaN</td>\n",
              "      <td>NaN</td>\n",
              "      <td>NaN</td>\n",
              "      <td>NaN</td>\n",
              "      <td>NaN</td>\n",
              "      <td>NaN</td>\n",
              "      <td>NaN</td>\n",
              "      <td>NaN</td>\n",
              "      <td>NaN</td>\n",
              "      <td>NaN</td>\n",
              "      <td>NaN</td>\n",
              "      <td>NaN</td>\n",
              "      <td>NaN</td>\n",
              "      <td>NaN</td>\n",
              "      <td>NaN</td>\n",
              "      <td>NaN</td>\n",
              "      <td>NaN</td>\n",
              "      <td>NaN</td>\n",
              "      <td>NaN</td>\n",
              "      <td>NaN</td>\n",
              "      <td>NaN</td>\n",
              "      <td>NaN</td>\n",
              "    </tr>\n",
              "    <tr>\n",
              "      <th>1</th>\n",
              "      <td>Basf Se</td>\n",
              "      <td>BASF SE</td>\n",
              "      <td>BASF SE</td>\n",
              "      <td>IQ382826</td>\n",
              "      <td>63873.00</td>\n",
              "      <td>73497.00</td>\n",
              "      <td>72129.00</td>\n",
              "      <td>73973.00</td>\n",
              "      <td>74326.00</td>\n",
              "      <td>70449.00</td>\n",
              "      <td>57550.00</td>\n",
              "      <td>61223.00</td>\n",
              "      <td>60220.00</td>\n",
              "      <td>59316.00</td>\n",
              "      <td>18433.00</td>\n",
              "      <td>19336.00</td>\n",
              "      <td>17686.00</td>\n",
              "      <td>18117.00</td>\n",
              "      <td>18262.00</td>\n",
              "      <td>18818.00</td>\n",
              "      <td>18008.00</td>\n",
              "      <td>19412.00</td>\n",
              "      <td>17064.00</td>\n",
              "      <td>15969.00</td>\n",
              "      <td>59393.00</td>\n",
              "      <td>61175.00</td>\n",
              "      <td>62726.00</td>\n",
              "      <td>64204.00</td>\n",
              "      <td>71359.00</td>\n",
              "      <td>70836.00</td>\n",
              "      <td>76496.00</td>\n",
              "      <td>78768.00</td>\n",
              "      <td>86556.00</td>\n",
              "      <td>86950.00</td>\n",
              "      <td>11762.00</td>\n",
              "      <td>11611.00</td>\n",
              "      <td>9191.00</td>\n",
              "      <td>9882.00</td>\n",
              "      <td>10027.00</td>\n",
              "      <td>10576.00</td>\n",
              "      <td>9725.00</td>\n",
              "      <td>10984.00</td>\n",
              "      <td>8976.00</td>\n",
              "      <td>7068.00</td>\n",
              "      <td>15.85</td>\n",
              "      <td>3.00</td>\n",
              "      <td>2.54</td>\n",
              "      <td>2.36</td>\n",
              "      <td>11.14</td>\n",
              "      <td>-0.73</td>\n",
              "      <td>7.99</td>\n",
              "      <td>2.97</td>\n",
              "      <td>9.89</td>\n",
              "      <td>0.46</td>\n",
              "      <td>52.52</td>\n",
              "      <td>-1.28</td>\n",
              "      <td>-20.84</td>\n",
              "      <td>7.52</td>\n",
              "      <td>1.47</td>\n",
              "      <td>5.48</td>\n",
              "      <td>-8.05</td>\n",
              "      <td>12.95</td>\n",
              "      <td>-18.28</td>\n",
              "      <td>-21.26</td>\n",
              "      <td>9.71</td>\n",
              "      <td>8.86</td>\n",
              "      <td>6.31</td>\n",
              "      <td>6.74</td>\n",
              "      <td>6.42</td>\n",
              "      <td>5.73</td>\n",
              "      <td>4.91</td>\n",
              "      <td>5.57</td>\n",
              "      <td>4.46</td>\n",
              "      <td>2.66</td>\n",
              "      <td>24.59</td>\n",
              "      <td>27.49</td>\n",
              "      <td>19.87</td>\n",
              "      <td>19.19</td>\n",
              "      <td>19.66</td>\n",
              "      <td>14.40</td>\n",
              "      <td>13.27</td>\n",
              "      <td>16.61</td>\n",
              "      <td>11.62</td>\n",
              "      <td>6.49</td>\n",
              "    </tr>\n",
              "    <tr>\n",
              "      <th>3</th>\n",
              "      <td>Delphi Technologies, Inc.</td>\n",
              "      <td>DELPHI TECH INC</td>\n",
              "      <td>Delphi Technologies PLC</td>\n",
              "      <td>IQ433871117</td>\n",
              "      <td>NaN</td>\n",
              "      <td>NaN</td>\n",
              "      <td>NaN</td>\n",
              "      <td>NaN</td>\n",
              "      <td>3750.72</td>\n",
              "      <td>4057.75</td>\n",
              "      <td>4249.59</td>\n",
              "      <td>4038.25</td>\n",
              "      <td>4242.98</td>\n",
              "      <td>3886.09</td>\n",
              "      <td>NaN</td>\n",
              "      <td>NaN</td>\n",
              "      <td>NaN</td>\n",
              "      <td>NaN</td>\n",
              "      <td>717.92</td>\n",
              "      <td>790.92</td>\n",
              "      <td>782.47</td>\n",
              "      <td>816.14</td>\n",
              "      <td>784.31</td>\n",
              "      <td>584.56</td>\n",
              "      <td>NaN</td>\n",
              "      <td>NaN</td>\n",
              "      <td>NaN</td>\n",
              "      <td>NaN</td>\n",
              "      <td>NaN</td>\n",
              "      <td>2763.17</td>\n",
              "      <td>2746.22</td>\n",
              "      <td>3158.81</td>\n",
              "      <td>3400.15</td>\n",
              "      <td>3338.95</td>\n",
              "      <td>NaN</td>\n",
              "      <td>NaN</td>\n",
              "      <td>NaN</td>\n",
              "      <td>NaN</td>\n",
              "      <td>568.39</td>\n",
              "      <td>647.29</td>\n",
              "      <td>653.64</td>\n",
              "      <td>609.61</td>\n",
              "      <td>576.44</td>\n",
              "      <td>406.34</td>\n",
              "      <td>NaN</td>\n",
              "      <td>NaN</td>\n",
              "      <td>NaN</td>\n",
              "      <td>NaN</td>\n",
              "      <td>NaN</td>\n",
              "      <td>NaN</td>\n",
              "      <td>-3.40</td>\n",
              "      <td>30.84</td>\n",
              "      <td>2.64</td>\n",
              "      <td>-3.75</td>\n",
              "      <td>NaN</td>\n",
              "      <td>NaN</td>\n",
              "      <td>NaN</td>\n",
              "      <td>NaN</td>\n",
              "      <td>NaN</td>\n",
              "      <td>2.18</td>\n",
              "      <td>-1.85</td>\n",
              "      <td>6.09</td>\n",
              "      <td>-9.84</td>\n",
              "      <td>-30.91</td>\n",
              "      <td>NaN</td>\n",
              "      <td>NaN</td>\n",
              "      <td>NaN</td>\n",
              "      <td>NaN</td>\n",
              "      <td>NaN</td>\n",
              "      <td>NaN</td>\n",
              "      <td>10.78</td>\n",
              "      <td>10.14</td>\n",
              "      <td>7.55</td>\n",
              "      <td>4.12</td>\n",
              "      <td>NaN</td>\n",
              "      <td>NaN</td>\n",
              "      <td>NaN</td>\n",
              "      <td>NaN</td>\n",
              "      <td>NaN</td>\n",
              "      <td>NaN</td>\n",
              "      <td>21.24</td>\n",
              "      <td>45.12</td>\n",
              "      <td>113.43</td>\n",
              "      <td>7.39</td>\n",
              "    </tr>\n",
              "    <tr>\n",
              "      <th>4</th>\n",
              "      <td>Showa Denko K.K.</td>\n",
              "      <td>SHOWA DENKO KK</td>\n",
              "      <td>Showa Denko K.K.</td>\n",
              "      <td>IQ874164</td>\n",
              "      <td>7327.34</td>\n",
              "      <td>8545.47</td>\n",
              "      <td>6486.00</td>\n",
              "      <td>5854.80</td>\n",
              "      <td>6018.54</td>\n",
              "      <td>5942.22</td>\n",
              "      <td>5445.73</td>\n",
              "      <td>5770.02</td>\n",
              "      <td>7898.02</td>\n",
              "      <td>7432.49</td>\n",
              "      <td>1166.66</td>\n",
              "      <td>1348.97</td>\n",
              "      <td>974.94</td>\n",
              "      <td>753.11</td>\n",
              "      <td>749.10</td>\n",
              "      <td>933.07</td>\n",
              "      <td>1023.69</td>\n",
              "      <td>1313.20</td>\n",
              "      <td>2285.76</td>\n",
              "      <td>1929.32</td>\n",
              "      <td>8497.37</td>\n",
              "      <td>9417.31</td>\n",
              "      <td>8182.63</td>\n",
              "      <td>6807.59</td>\n",
              "      <td>6963.66</td>\n",
              "      <td>7204.33</td>\n",
              "      <td>7567.84</td>\n",
              "      <td>7576.62</td>\n",
              "      <td>8563.61</td>\n",
              "      <td>8825.82</td>\n",
              "      <td>832.78</td>\n",
              "      <td>980.15</td>\n",
              "      <td>662.34</td>\n",
              "      <td>463.93</td>\n",
              "      <td>433.31</td>\n",
              "      <td>589.83</td>\n",
              "      <td>655.64</td>\n",
              "      <td>859.60</td>\n",
              "      <td>1746.90</td>\n",
              "      <td>1300.44</td>\n",
              "      <td>-3.53</td>\n",
              "      <td>1.82</td>\n",
              "      <td>-0.86</td>\n",
              "      <td>5.64</td>\n",
              "      <td>2.44</td>\n",
              "      <td>-6.87</td>\n",
              "      <td>-0.83</td>\n",
              "      <td>9.87</td>\n",
              "      <td>4.98</td>\n",
              "      <td>0.06</td>\n",
              "      <td>80.03</td>\n",
              "      <td>8.13</td>\n",
              "      <td>-22.90</td>\n",
              "      <td>-11.06</td>\n",
              "      <td>-6.46</td>\n",
              "      <td>22.54</td>\n",
              "      <td>4.94</td>\n",
              "      <td>43.88</td>\n",
              "      <td>88.75</td>\n",
              "      <td>-27.73</td>\n",
              "      <td>2.57</td>\n",
              "      <td>3.17</td>\n",
              "      <td>1.87</td>\n",
              "      <td>1.69</td>\n",
              "      <td>1.29</td>\n",
              "      <td>2.15</td>\n",
              "      <td>2.81</td>\n",
              "      <td>4.97</td>\n",
              "      <td>10.71</td>\n",
              "      <td>7.02</td>\n",
              "      <td>5.25</td>\n",
              "      <td>6.78</td>\n",
              "      <td>3.61</td>\n",
              "      <td>3.11</td>\n",
              "      <td>0.52</td>\n",
              "      <td>-2.52</td>\n",
              "      <td>4.47</td>\n",
              "      <td>10.58</td>\n",
              "      <td>28.12</td>\n",
              "      <td>15.29</td>\n",
              "    </tr>\n",
              "    <tr>\n",
              "      <th>6</th>\n",
              "      <td>Toto Ltd.</td>\n",
              "      <td>TOTO LTD</td>\n",
              "      <td>Toto Ltd.</td>\n",
              "      <td>IQ873962</td>\n",
              "      <td>3338.55</td>\n",
              "      <td>3689.41</td>\n",
              "      <td>4120.65</td>\n",
              "      <td>3946.16</td>\n",
              "      <td>3901.55</td>\n",
              "      <td>4224.15</td>\n",
              "      <td>4437.83</td>\n",
              "      <td>4812.87</td>\n",
              "      <td>4526.82</td>\n",
              "      <td>4712.60</td>\n",
              "      <td>1157.53</td>\n",
              "      <td>1364.08</td>\n",
              "      <td>1509.98</td>\n",
              "      <td>1433.75</td>\n",
              "      <td>1492.16</td>\n",
              "      <td>1607.59</td>\n",
              "      <td>1690.22</td>\n",
              "      <td>1854.81</td>\n",
              "      <td>1713.15</td>\n",
              "      <td>1724.92</td>\n",
              "      <td>2993.06</td>\n",
              "      <td>3226.98</td>\n",
              "      <td>3432.36</td>\n",
              "      <td>3384.23</td>\n",
              "      <td>3358.31</td>\n",
              "      <td>4010.71</td>\n",
              "      <td>4190.70</td>\n",
              "      <td>4646.61</td>\n",
              "      <td>4326.81</td>\n",
              "      <td>4623.13</td>\n",
              "      <td>214.95</td>\n",
              "      <td>287.28</td>\n",
              "      <td>337.97</td>\n",
              "      <td>355.32</td>\n",
              "      <td>437.81</td>\n",
              "      <td>424.00</td>\n",
              "      <td>504.32</td>\n",
              "      <td>568.51</td>\n",
              "      <td>565.26</td>\n",
              "      <td>510.70</td>\n",
              "      <td>-2.67</td>\n",
              "      <td>0.25</td>\n",
              "      <td>-0.57</td>\n",
              "      <td>8.32</td>\n",
              "      <td>16.63</td>\n",
              "      <td>8.52</td>\n",
              "      <td>3.73</td>\n",
              "      <td>3.31</td>\n",
              "      <td>2.19</td>\n",
              "      <td>1.56</td>\n",
              "      <td>-6.30</td>\n",
              "      <td>24.27</td>\n",
              "      <td>9.98</td>\n",
              "      <td>15.50</td>\n",
              "      <td>44.82</td>\n",
              "      <td>-12.00</td>\n",
              "      <td>18.08</td>\n",
              "      <td>5.03</td>\n",
              "      <td>9.12</td>\n",
              "      <td>-14.12</td>\n",
              "      <td>1.07</td>\n",
              "      <td>2.31</td>\n",
              "      <td>3.10</td>\n",
              "      <td>3.72</td>\n",
              "      <td>6.67</td>\n",
              "      <td>4.71</td>\n",
              "      <td>5.48</td>\n",
              "      <td>5.57</td>\n",
              "      <td>5.87</td>\n",
              "      <td>4.40</td>\n",
              "      <td>0.85</td>\n",
              "      <td>3.25</td>\n",
              "      <td>5.52</td>\n",
              "      <td>8.83</td>\n",
              "      <td>19.26</td>\n",
              "      <td>9.71</td>\n",
              "      <td>12.86</td>\n",
              "      <td>11.76</td>\n",
              "      <td>11.67</td>\n",
              "      <td>9.63</td>\n",
              "    </tr>\n",
              "  </tbody>\n",
              "</table>\n",
              "</div>"
            ],
            "text/plain": [
              "                assignee_fin               company              result_name  \\\n",
              "0     Target Discovery, Inc.  TARGET DISCOVERY INC   Target Discovery, Inc.   \n",
              "1                    Basf Se               BASF SE                  BASF SE   \n",
              "3  Delphi Technologies, Inc.       DELPHI TECH INC  Delphi Technologies PLC   \n",
              "4           Showa Denko K.K.        SHOWA DENKO KK         Showa Denko K.K.   \n",
              "6                  Toto Ltd.              TOTO LTD                Toto Ltd.   \n",
              "\n",
              "    identifier total_rev_2010 total_rev_2011 total_rev_2012 total_rev_2013  \\\n",
              "0    IQ1669583            NaN            NaN            NaN            NaN   \n",
              "1     IQ382826       63873.00       73497.00       72129.00       73973.00   \n",
              "3  IQ433871117            NaN            NaN            NaN            NaN   \n",
              "4     IQ874164        7327.34        8545.47        6486.00        5854.80   \n",
              "6     IQ873962        3338.55        3689.41        4120.65        3946.16   \n",
              "\n",
              "  total_rev_2014 total_rev_2015 total_rev_2016 total_rev_2017 total_rev_2018  \\\n",
              "0            NaN            NaN            NaN            NaN            NaN   \n",
              "1       74326.00       70449.00       57550.00       61223.00       60220.00   \n",
              "3        3750.72        4057.75        4249.59        4038.25        4242.98   \n",
              "4        6018.54        5942.22        5445.73        5770.02        7898.02   \n",
              "6        3901.55        4224.15        4437.83        4812.87        4526.82   \n",
              "\n",
              "  total_rev_2019 gross_profit_2010 gross_profit_2011 gross_profit_2012  \\\n",
              "0            NaN               NaN               NaN               NaN   \n",
              "1       59316.00          18433.00          19336.00          17686.00   \n",
              "3        3886.09               NaN               NaN               NaN   \n",
              "4        7432.49           1166.66           1348.97            974.94   \n",
              "6        4712.60           1157.53           1364.08           1509.98   \n",
              "\n",
              "  gross_profit_2013 gross_profit_2014 gross_profit_2015 gross_profit_2016  \\\n",
              "0               NaN               NaN               NaN               NaN   \n",
              "1          18117.00          18262.00          18818.00          18008.00   \n",
              "3               NaN            717.92            790.92            782.47   \n",
              "4            753.11            749.10            933.07           1023.69   \n",
              "6           1433.75           1492.16           1607.59           1690.22   \n",
              "\n",
              "  gross_profit_2017 gross_profit_2018 gross_profit_2019 total_assets_2010  \\\n",
              "0               NaN               NaN               NaN               NaN   \n",
              "1          19412.00          17064.00          15969.00          59393.00   \n",
              "3            816.14            784.31            584.56               NaN   \n",
              "4           1313.20           2285.76           1929.32           8497.37   \n",
              "6           1854.81           1713.15           1724.92           2993.06   \n",
              "\n",
              "  total_assets_2011 total_assets_2012 total_assets_2013 total_assets_2014  \\\n",
              "0               NaN               NaN               NaN               NaN   \n",
              "1          61175.00          62726.00          64204.00          71359.00   \n",
              "3               NaN               NaN               NaN               NaN   \n",
              "4           9417.31           8182.63           6807.59           6963.66   \n",
              "6           3226.98           3432.36           3384.23           3358.31   \n",
              "\n",
              "  total_assets_2015 total_assets_2016 total_assets_2017 total_assets_2018  \\\n",
              "0               NaN               NaN               NaN               NaN   \n",
              "1          70836.00          76496.00          78768.00          86556.00   \n",
              "3           2763.17           2746.22           3158.81           3400.15   \n",
              "4           7204.33           7567.84           7576.62           8563.61   \n",
              "6           4010.71           4190.70           4646.61           4326.81   \n",
              "\n",
              "  total_assets_2019 ebitda_2010 ebitda_2011 ebitda_2012 ebitda_2013  \\\n",
              "0               NaN         NaN         NaN         NaN         NaN   \n",
              "1          86950.00    11762.00    11611.00     9191.00     9882.00   \n",
              "3           3338.95         NaN         NaN         NaN         NaN   \n",
              "4           8825.82      832.78      980.15      662.34      463.93   \n",
              "6           4623.13      214.95      287.28      337.97      355.32   \n",
              "\n",
              "  ebitda_2014 ebitda_2015 ebitda_2016 ebitda_2017 ebitda_2018 ebitda_2019  \\\n",
              "0         NaN         NaN         NaN         NaN         NaN         NaN   \n",
              "1    10027.00    10576.00     9725.00    10984.00     8976.00     7068.00   \n",
              "3      568.39      647.29      653.64      609.61      576.44      406.34   \n",
              "4      433.31      589.83      655.64      859.60     1746.90     1300.44   \n",
              "6      437.81      424.00      504.32      568.51      565.26      510.70   \n",
              "\n",
              "  total_assets_growth_2010 total_assets_growth_2011 total_assets_growth_2012  \\\n",
              "0                      NaN                      NaN                      NaN   \n",
              "1                    15.85                     3.00                     2.54   \n",
              "3                      NaN                      NaN                      NaN   \n",
              "4                    -3.53                     1.82                    -0.86   \n",
              "6                    -2.67                     0.25                    -0.57   \n",
              "\n",
              "  total_assets_growth_2013 total_assets_growth_2014 total_assets_growth_2015  \\\n",
              "0                      NaN                      NaN                      NaN   \n",
              "1                     2.36                    11.14                    -0.73   \n",
              "3                      NaN                      NaN                      NaN   \n",
              "4                     5.64                     2.44                    -6.87   \n",
              "6                     8.32                    16.63                     8.52   \n",
              "\n",
              "  total_assets_growth_2016 total_assets_growth_2017 total_assets_growth_2018  \\\n",
              "0                      NaN                      NaN                      NaN   \n",
              "1                     7.99                     2.97                     9.89   \n",
              "3                    -3.40                    30.84                     2.64   \n",
              "4                    -0.83                     9.87                     4.98   \n",
              "6                     3.73                     3.31                     2.19   \n",
              "\n",
              "  total_assets_growth_2019 ebitda_growth_2010 ebitda_growth_2011  \\\n",
              "0                      NaN                NaN                NaN   \n",
              "1                     0.46              52.52              -1.28   \n",
              "3                    -3.75                NaN                NaN   \n",
              "4                     0.06              80.03               8.13   \n",
              "6                     1.56              -6.30              24.27   \n",
              "\n",
              "  ebitda_growth_2012 ebitda_growth_2013 ebitda_growth_2014 ebitda_growth_2015  \\\n",
              "0                NaN                NaN                NaN                NaN   \n",
              "1             -20.84               7.52               1.47               5.48   \n",
              "3                NaN                NaN                NaN               2.18   \n",
              "4             -22.90             -11.06              -6.46              22.54   \n",
              "6               9.98              15.50              44.82             -12.00   \n",
              "\n",
              "  ebitda_growth_2016 ebitda_growth_2017 ebitda_growth_2018 ebitda_growth_2019  \\\n",
              "0                NaN                NaN                NaN                NaN   \n",
              "1              -8.05              12.95             -18.28             -21.26   \n",
              "3              -1.85               6.09              -9.84             -30.91   \n",
              "4               4.94              43.88              88.75             -27.73   \n",
              "6              18.08               5.03               9.12             -14.12   \n",
              "\n",
              "  roa_2010 roa_2011 roa_2012 roa_2013 roa_2014 roa_2015 roa_2016 roa_2017  \\\n",
              "0      NaN      NaN      NaN      NaN      NaN      NaN      NaN      NaN   \n",
              "1     9.71     8.86     6.31     6.74     6.42     5.73     4.91     5.57   \n",
              "3      NaN      NaN      NaN      NaN      NaN      NaN    10.78    10.14   \n",
              "4     2.57     3.17     1.87     1.69     1.29     2.15     2.81     4.97   \n",
              "6     1.07     2.31     3.10     3.72     6.67     4.71     5.48     5.57   \n",
              "\n",
              "  roa_2018 roa_2019 roe_2010 roe_2011 roe_2012 roe_2013 roe_2014 roe_2015  \\\n",
              "0      NaN      NaN      NaN      NaN      NaN      NaN      NaN      NaN   \n",
              "1     4.46     2.66    24.59    27.49    19.87    19.19    19.66    14.40   \n",
              "3     7.55     4.12      NaN      NaN      NaN      NaN      NaN      NaN   \n",
              "4    10.71     7.02     5.25     6.78     3.61     3.11     0.52    -2.52   \n",
              "6     5.87     4.40     0.85     3.25     5.52     8.83    19.26     9.71   \n",
              "\n",
              "  roe_2016 roe_2017 roe_2018 roe_2019  \n",
              "0      NaN      NaN      NaN      NaN  \n",
              "1    13.27    16.61    11.62     6.49  \n",
              "3    21.24    45.12   113.43     7.39  \n",
              "4     4.47    10.58    28.12    15.29  \n",
              "6    12.86    11.76    11.67     9.63  "
            ]
          },
          "metadata": {
            "tags": []
          },
          "execution_count": 88
        }
      ]
    },
    {
      "cell_type": "code",
      "metadata": {
        "id": "2yXGPDdh4Xo0"
      },
      "source": [
        "data = pd.merge(df, fin, left_on='assignee_harmonized', right_on=\"company\") \n",
        "# 149123 total rows\n",
        "# 143198 publication numbers"
      ],
      "execution_count": null,
      "outputs": []
    },
    {
      "cell_type": "markdown",
      "metadata": {
        "id": "glsWJaQw88Lx"
      },
      "source": [
        "### Labeling the dataset for modeling"
      ]
    },
    {
      "cell_type": "code",
      "metadata": {
        "id": "Qo1AQyKR8-gh"
      },
      "source": [
        "# Preparing the date column\n",
        "data['publication_date'] = data['publication_date'].astype(str).str.strip()\n",
        "data['publication_date'] = pd.to_datetime(data['publication_date'])"
      ],
      "execution_count": null,
      "outputs": []
    },
    {
      "cell_type": "code",
      "metadata": {
        "id": "IiZRZWIF9DCK"
      },
      "source": [
        "# Preparing the financial columns \n",
        "data[str_cols] = data[str_cols].astype(str)\n",
        "data[str_cols] = data[str_cols].apply(pd.to_numeric, errors='coerce')"
      ],
      "execution_count": null,
      "outputs": []
    },
    {
      "cell_type": "code",
      "metadata": {
        "id": "5FUuyR1j9ggr"
      },
      "source": [
        "str_cols = list(map(lambda st: str.replace(st, '_2010',''), str_cols)) \n",
        "str_cols = list(map(lambda st: str.replace(st, '_2011',''), str_cols)) \n",
        "str_cols = list(map(lambda st: str.replace(st, '_2012',''), str_cols)) \n",
        "str_cols = list(map(lambda st: str.replace(st, '_2013',''), str_cols)) \n",
        "str_cols = list(map(lambda st: str.replace(st, '_2014',''), str_cols)) \n",
        "str_cols = list(map(lambda st: str.replace(st, '_2015',''), str_cols)) \n",
        "str_cols = list(map(lambda st: str.replace(st, '_2016',''), str_cols)) \n",
        "str_cols = list(map(lambda st: str.replace(st, '_2017',''), str_cols)) \n",
        "str_cols = list(map(lambda st: str.replace(st, '_2018',''), str_cols)) \n",
        "str_cols = list(map(lambda st: str.replace(st, '_2019',''), str_cols)) "
      ],
      "execution_count": null,
      "outputs": []
    },
    {
      "cell_type": "code",
      "metadata": {
        "id": "ipDUJu2O-DVc"
      },
      "source": [
        "# Creating the label for the 1-year change \n",
        "\n",
        "for x in str_cols: \n",
        "    conditions = [ \n",
        "    (data['publication_date'].dt.year == 2010) & (data[x+'_2011'] == data[x+'_2010']) | (data['publication_date'].dt.year == 2011) & (data[x+'_2012'] == data[x+'_2011']) | (data['publication_date'].dt.year == 2012) & (data[x+'_2013'] == data[x+'_2012']) | (data['publication_date'].dt.year == 2013) & (data[x+'_2014'] == data[x+'_2013']) | (data['publication_date'].dt.year == 2014) & (data[x+'_2015'] == data[x+'_2014']) | (data['publication_date'].dt.year == 2015) & (data[x+'_2016'] == data[x+'_2015']) | (data['publication_date'].dt.year == 2016) & (data[x+'_2017'] == data[x+'_2016']) | (data['publication_date'].dt.year == 2017) & (data[x+'_2018'] == data[x+'_2017']) | (data['publication_date'].dt.year == 2018) & (data[x+'_2019'] == data[x+'_2018']),\n",
        "    (data['publication_date'].dt.year == 2010) & (data[x+'_2011'] > data[x+'_2010']) | (data['publication_date'].dt.year == 2011) & (data[x+'_2012'] > data[x+'_2011']) | (data['publication_date'].dt.year == 2012) & (data[x+'_2013'] > data[x+'_2012']) | (data['publication_date'].dt.year == 2013) & (data[x+'_2014'] > data[x+'_2013']) | (data['publication_date'].dt.year == 2014) & (data[x+'_2015'] > data[x+'_2014']) | (data['publication_date'].dt.year == 2015) & (data[x+'_2016'] > data[x+'_2015']) | (data['publication_date'].dt.year == 2016) & (data[x+'_2017'] > data[x+'_2016']) | (data['publication_date'].dt.year == 2017) & (data[x+'_2018'] > data[x+'_2017']) | (data['publication_date'].dt.year == 2018) & (data[x+'_2019'] > data[x+'_2018']),\n",
        "    (data['publication_date'].dt.year == 2010) & (data[x+'_2011'] < data[x+'_2010']) | (data['publication_date'].dt.year == 2011) & (data[x+'_2012'] < data[x+'_2011']) | (data['publication_date'].dt.year == 2012) & (data[x+'_2013'] < data[x+'_2012']) | (data['publication_date'].dt.year == 2013) & (data[x+'_2014'] < data[x+'_2013']) | (data['publication_date'].dt.year == 2014) & (data[x+'_2015'] < data[x+'_2014']) | (data['publication_date'].dt.year == 2015) & (data[x+'_2016'] < data[x+'_2015']) | (data['publication_date'].dt.year == 2016) & (data[x+'_2017'] < data[x+'_2016']) | (data['publication_date'].dt.year == 2017) & (data[x+'_2018'] < data[x+'_2017']) | (data['publication_date'].dt.year == 2018) & (data[x+'_2019'] < data[x+'_2018'])\n",
        "    ]\n",
        "    values = ['0', '1', '-1']\n",
        "    data[x+'_label_1'] = np.select(conditions, values, default=None)"
      ],
      "execution_count": null,
      "outputs": []
    },
    {
      "cell_type": "code",
      "metadata": {
        "id": "00WNMkOdATwB"
      },
      "source": [
        "# Creating the label for the 2-year change \n",
        "\n",
        "for x in str_cols: \n",
        "    conditions = [ \n",
        "    (data['publication_date'].dt.year == 2010) & (data[x+'_2012'] == data[x+'_2010']) | (data['publication_date'].dt.year == 2011) & (data[x+'_2013'] == data[x+'_2011']) | (data['publication_date'].dt.year == 2012) & (data[x+'_2014'] == data[x+'_2012']) | (data['publication_date'].dt.year == 2013) & (data[x+'_2015'] == data[x+'_2013']) | (data['publication_date'].dt.year == 2014) & (data[x+'_2016'] == data[x+'_2014']) | (data['publication_date'].dt.year == 2015) & (data[x+'_2017'] == data[x+'_2015']) | (data['publication_date'].dt.year == 2016) & (data[x+'_2018'] == data[x+'_2016']) | (data['publication_date'].dt.year == 2017) & (data[x+'_2019'] == data[x+'_2017']),\n",
        "    (data['publication_date'].dt.year == 2010) & (data[x+'_2012'] > data[x+'_2010']) | (data['publication_date'].dt.year == 2011) & (data[x+'_2013'] > data[x+'_2011']) | (data['publication_date'].dt.year == 2012) & (data[x+'_2014'] > data[x+'_2012']) | (data['publication_date'].dt.year == 2013) & (data[x+'_2015'] > data[x+'_2013']) | (data['publication_date'].dt.year == 2014) & (data[x+'_2016'] > data[x+'_2014']) | (data['publication_date'].dt.year == 2015) & (data[x+'_2017'] > data[x+'_2015']) | (data['publication_date'].dt.year == 2016) & (data[x+'_2018'] > data[x+'_2016']) | (data['publication_date'].dt.year == 2017) & (data[x+'_2019'] > data[x+'_2017']),\n",
        "    (data['publication_date'].dt.year == 2010) & (data[x+'_2012'] < data[x+'_2010']) | (data['publication_date'].dt.year == 2011) & (data[x+'_2013'] < data[x+'_2011']) | (data['publication_date'].dt.year == 2012) & (data[x+'_2014'] < data[x+'_2012']) | (data['publication_date'].dt.year == 2013) & (data[x+'_2015'] < data[x+'_2013']) | (data['publication_date'].dt.year == 2014) & (data[x+'_2016'] < data[x+'_2014']) | (data['publication_date'].dt.year == 2015) & (data[x+'_2017'] < data[x+'_2015']) | (data['publication_date'].dt.year == 2016) & (data[x+'_2018'] < data[x+'_2016']) | (data['publication_date'].dt.year == 2017) & (data[x+'_2019'] < data[x+'_2017'])\n",
        "    ]\n",
        "    values = ['0', '1', '-1']\n",
        "    data[x+'_label_2'] = np.select(conditions, values, default=None)"
      ],
      "execution_count": null,
      "outputs": []
    },
    {
      "cell_type": "code",
      "metadata": {
        "id": "Kf23KNdkA5iT"
      },
      "source": [
        "# Creating the label for the 3-year change \n",
        "\n",
        "for x in str_cols: \n",
        "    conditions = [ \n",
        "    (data['publication_date'].dt.year == 2010) & (data[x+'_2013'] == data[x+'_2010']) | (data['publication_date'].dt.year == 2011) & (data[x+'_2014'] == data[x+'_2011']) | (data['publication_date'].dt.year == 2012) & (data[x+'_2015'] == data[x+'_2012']) | (data['publication_date'].dt.year == 2013) & (data[x+'_2016'] == data[x+'_2013']) | (data['publication_date'].dt.year == 2014) & (data[x+'_2017'] == data[x+'_2014']) | (data['publication_date'].dt.year == 2015) & (data[x+'_2018'] == data[x+'_2015']) | (data['publication_date'].dt.year == 2016) & (data[x+'_2019'] == data[x+'_2016']),\n",
        "    (data['publication_date'].dt.year == 2010) & (data[x+'_2013'] > data[x+'_2010']) | (data['publication_date'].dt.year == 2011) & (data[x+'_2014'] > data[x+'_2011']) | (data['publication_date'].dt.year == 2012) & (data[x+'_2015'] > data[x+'_2012']) | (data['publication_date'].dt.year == 2013) & (data[x+'_2016'] > data[x+'_2013']) | (data['publication_date'].dt.year == 2014) & (data[x+'_2017'] > data[x+'_2014']) | (data['publication_date'].dt.year == 2015) & (data[x+'_2018'] > data[x+'_2015']) | (data['publication_date'].dt.year == 2016) & (data[x+'_2019'] > data[x+'_2016']),\n",
        "    (data['publication_date'].dt.year == 2010) & (data[x+'_2013'] < data[x+'_2010']) | (data['publication_date'].dt.year == 2011) & (data[x+'_2014'] < data[x+'_2011']) | (data['publication_date'].dt.year == 2012) & (data[x+'_2015'] < data[x+'_2012']) | (data['publication_date'].dt.year == 2013) & (data[x+'_2016'] < data[x+'_2013']) | (data['publication_date'].dt.year == 2014) & (data[x+'_2017'] < data[x+'_2014']) | (data['publication_date'].dt.year == 2015) & (data[x+'_2018'] < data[x+'_2015']) | (data['publication_date'].dt.year == 2016) & (data[x+'_2019'] < data[x+'_2016'])\n",
        "    ]\n",
        "    values = ['0', '1', '-1']\n",
        "    data[x+'_label_3'] = np.select(conditions, values, default=None)"
      ],
      "execution_count": null,
      "outputs": []
    },
    {
      "cell_type": "code",
      "metadata": {
        "id": "PJTNLyKZBel8"
      },
      "source": [
        "# Creating the label for the 4-year change \n",
        "\n",
        "for x in str_cols: \n",
        "    conditions = [ \n",
        "    (data['publication_date'].dt.year == 2010) & (data[x+'_2014'] == data[x+'_2010']) | (data['publication_date'].dt.year == 2011) & (data[x+'_2015'] == data[x+'_2011']) | (data['publication_date'].dt.year == 2012) & (data[x+'_2016'] == data[x+'_2012']) | (data['publication_date'].dt.year == 2013) & (data[x+'_2017'] == data[x+'_2013']) | (data['publication_date'].dt.year == 2014) & (data[x+'_2018'] == data[x+'_2014']) | (data['publication_date'].dt.year == 2015) & (data[x+'_2019'] == data[x+'_2015']),\n",
        "    (data['publication_date'].dt.year == 2010) & (data[x+'_2014'] > data[x+'_2010']) | (data['publication_date'].dt.year == 2011) & (data[x+'_2015'] > data[x+'_2011']) | (data['publication_date'].dt.year == 2012) & (data[x+'_2016'] > data[x+'_2012']) | (data['publication_date'].dt.year == 2013) & (data[x+'_2017'] > data[x+'_2013']) | (data['publication_date'].dt.year == 2014) & (data[x+'_2018'] > data[x+'_2014']) | (data['publication_date'].dt.year == 2015) & (data[x+'_2019'] > data[x+'_2015']),\n",
        "    (data['publication_date'].dt.year == 2010) & (data[x+'_2014'] < data[x+'_2010']) | (data['publication_date'].dt.year == 2011) & (data[x+'_2015'] < data[x+'_2011']) | (data['publication_date'].dt.year == 2012) & (data[x+'_2016'] < data[x+'_2012']) | (data['publication_date'].dt.year == 2013) & (data[x+'_2017'] < data[x+'_2013']) | (data['publication_date'].dt.year == 2014) & (data[x+'_2018'] < data[x+'_2014']) | (data['publication_date'].dt.year == 2015) & (data[x+'_2019'] < data[x+'_2015'])\n",
        "    ]\n",
        "    values = ['0', '1', '-1']\n",
        "    data[x+'_label_4'] = np.select(conditions, values, default=None)"
      ],
      "execution_count": null,
      "outputs": []
    },
    {
      "cell_type": "code",
      "metadata": {
        "id": "XAkPijJHCIjL"
      },
      "source": [
        "# Creating the label for the 5-year change \n",
        "\n",
        "for x in str_cols: \n",
        "    conditions = [ \n",
        "    (data['publication_date'].dt.year == 2010) & (data[x+'_2015'] == data[x+'_2010']) | (data['publication_date'].dt.year == 2011) & (data[x+'_2016'] == data[x+'_2011']) | (data['publication_date'].dt.year == 2012) & (data[x+'_2017'] == data[x+'_2012']) | (data['publication_date'].dt.year == 2013) & (data[x+'_2018'] == data[x+'_2013']) | (data['publication_date'].dt.year == 2014) & (data[x+'_2019'] == data[x+'_2014']),\n",
        "    (data['publication_date'].dt.year == 2010) & (data[x+'_2015'] > data[x+'_2010']) | (data['publication_date'].dt.year == 2011) & (data[x+'_2016'] > data[x+'_2011']) | (data['publication_date'].dt.year == 2012) & (data[x+'_2017'] > data[x+'_2012']) | (data['publication_date'].dt.year == 2013) & (data[x+'_2018'] > data[x+'_2013']) | (data['publication_date'].dt.year == 2014) & (data[x+'_2019'] > data[x+'_2014']),\n",
        "    (data['publication_date'].dt.year == 2010) & (data[x+'_2015'] < data[x+'_2010']) | (data['publication_date'].dt.year == 2011) & (data[x+'_2016'] < data[x+'_2011']) | (data['publication_date'].dt.year == 2012) & (data[x+'_2017'] < data[x+'_2012']) | (data['publication_date'].dt.year == 2013) & (data[x+'_2018'] < data[x+'_2013']) | (data['publication_date'].dt.year == 2014) & (data[x+'_2019'] < data[x+'_2014'])\n",
        "    ]\n",
        "    values = ['0', '1', '-1']\n",
        "    data[x+'_label_5'] = np.select(conditions, values, default=None)"
      ],
      "execution_count": null,
      "outputs": []
    },
    {
      "cell_type": "code",
      "metadata": {
        "id": "Fm-GmkKWCrK1"
      },
      "source": [
        "# Creating the label for the 6-year change \n",
        "\n",
        "for x in str_cols: \n",
        "    conditions = [ \n",
        "    (data['publication_date'].dt.year == 2010) & (data[x+'_2016'] == data[x+'_2010']) | (data['publication_date'].dt.year == 2011) & (data[x+'_2017'] == data[x+'_2011']) | (data['publication_date'].dt.year == 2012) & (data[x+'_2018'] == data[x+'_2012']) | (data['publication_date'].dt.year == 2013) & (data[x+'_2019'] == data[x+'_2013']),\n",
        "    (data['publication_date'].dt.year == 2010) & (data[x+'_2016'] > data[x+'_2010']) | (data['publication_date'].dt.year == 2011) & (data[x+'_2017'] > data[x+'_2011']) | (data['publication_date'].dt.year == 2012) & (data[x+'_2018'] > data[x+'_2012']) | (data['publication_date'].dt.year == 2013) & (data[x+'_2019'] > data[x+'_2013']),\n",
        "    (data['publication_date'].dt.year == 2010) & (data[x+'_2016'] < data[x+'_2010']) | (data['publication_date'].dt.year == 2011) & (data[x+'_2017'] < data[x+'_2011']) | (data['publication_date'].dt.year == 2012) & (data[x+'_2018'] < data[x+'_2012']) | (data['publication_date'].dt.year == 2013) & (data[x+'_2019'] < data[x+'_2013'])\n",
        "    ]\n",
        "    values = ['0', '1', '-1']\n",
        "    data[x+'_label_6'] = np.select(conditions, values, default=None)"
      ],
      "execution_count": null,
      "outputs": []
    },
    {
      "cell_type": "code",
      "metadata": {
        "id": "eGVOnXasC6Vv"
      },
      "source": [
        "# Creating the label for the 7-year change \n",
        "\n",
        "for x in str_cols: \n",
        "    conditions = [ \n",
        "    (data['publication_date'].dt.year == 2010) & (data[x+'_2017'] == data[x+'_2010']) | (data['publication_date'].dt.year == 2011) & (data[x+'_2018'] == data[x+'_2011']) | (data['publication_date'].dt.year == 2012) & (data[x+'_2019'] == data[x+'_2012']),\n",
        "    (data['publication_date'].dt.year == 2010) & (data[x+'_2017'] > data[x+'_2010']) | (data['publication_date'].dt.year == 2011) & (data[x+'_2018'] > data[x+'_2011']) | (data['publication_date'].dt.year == 2012) & (data[x+'_2019'] > data[x+'_2012']),\n",
        "    (data['publication_date'].dt.year == 2010) & (data[x+'_2017'] < data[x+'_2010']) | (data['publication_date'].dt.year == 2011) & (data[x+'_2018'] < data[x+'_2011']) | (data['publication_date'].dt.year == 2012) & (data[x+'_2019'] < data[x+'_2012'])\n",
        "    ]\n",
        "    values = ['0', '1', '-1']\n",
        "    data[x+'_label_7'] = np.select(conditions, values, default=None)"
      ],
      "execution_count": null,
      "outputs": []
    },
    {
      "cell_type": "code",
      "metadata": {
        "id": "OhZvJIalDIjR"
      },
      "source": [
        "# Creating the label for the 8-year change \n",
        "\n",
        "for x in str_cols: \n",
        "    conditions = [ \n",
        "    (data['publication_date'].dt.year == 2010) & (data[x+'_2018'] == data[x+'_2010']) | (data['publication_date'].dt.year == 2011) & (data[x+'_2019'] == data[x+'_2011']),\n",
        "    (data['publication_date'].dt.year == 2010) & (data[x+'_2018'] > data[x+'_2010']) | (data['publication_date'].dt.year == 2011) & (data[x+'_2019'] > data[x+'_2011']),\n",
        "    (data['publication_date'].dt.year == 2010) & (data[x+'_2018'] < data[x+'_2010']) | (data['publication_date'].dt.year == 2011) & (data[x+'_2019'] < data[x+'_2011'])\n",
        "    ]\n",
        "    values = ['0', '1', '-1']\n",
        "    data[x+'_label_8'] = np.select(conditions, values, default=None)"
      ],
      "execution_count": null,
      "outputs": []
    },
    {
      "cell_type": "code",
      "metadata": {
        "id": "FMFfK2KVDXqi"
      },
      "source": [
        "# Creating the label for the 9-year change \n",
        "\n",
        "for x in str_cols: \n",
        "    conditions = [ \n",
        "    (data['publication_date'].dt.year == 2010) & (data[x+'_2019'] == data[x+'_2010']),\n",
        "    (data['publication_date'].dt.year == 2010) & (data[x+'_2019'] > data[x+'_2010']),\n",
        "    (data['publication_date'].dt.year == 2010) & (data[x+'_2019'] < data[x+'_2010'])\n",
        "    ]\n",
        "    values = ['0', '1', '-1']\n",
        "    data[x+'_label_9'] = np.select(conditions, values, default=None)"
      ],
      "execution_count": null,
      "outputs": []
    },
    {
      "cell_type": "code",
      "metadata": {
        "id": "YX_lLadjKLxZ"
      },
      "source": [
        "# Save the final labeled dataset. It is stored in the two zipped data files on this directory.\n",
        "data.to_csv('data.csv', index=False) "
      ],
      "execution_count": null,
      "outputs": []
    }
  ]
}